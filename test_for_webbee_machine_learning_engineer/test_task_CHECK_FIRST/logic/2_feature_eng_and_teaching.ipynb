{
 "cells": [
  {
   "cell_type": "code",
   "execution_count": 1,
   "metadata": {
    "collapsed": true,
    "ExecuteTime": {
     "end_time": "2024-05-05T14:23:42.744155500Z",
     "start_time": "2024-05-05T14:23:41.984348Z"
    }
   },
   "outputs": [],
   "source": [
    "import pandas as pd\n",
    "\n",
    "from sklearn.impute import SimpleImputer\n",
    "\n",
    "from sklearn.pipeline import make_pipeline\n",
    "from sklearn.preprocessing import StandardScaler, OneHotEncoder\n",
    "from sklearn.compose import make_column_transformer\n",
    "from sklearn.model_selection import cross_val_score\n",
    "\n",
    "from sklearn.tree import DecisionTreeRegressor\n",
    "from sklearn.svm import SVR\n",
    "from sklearn.ensemble import RandomForestRegressor\n",
    "from sklearn.linear_model import LinearRegression\n",
    "from sklearn.neural_network import MLPRegressor"
   ]
  },
  {
   "cell_type": "code",
   "execution_count": 2,
   "outputs": [
    {
     "data": {
      "text/plain": "     LandContour  GarageYrBlt  FullBath  1stFlrSF  BsmtFinSF1  TotRmsAbvGrd  \\\n0            Lvl       2003.0         2       856         706             8   \n1            Lvl       1976.0         2      1262         978             6   \n2            Lvl       2001.0         2       920         486             6   \n3            Lvl       1998.0         1       961         216             7   \n4            Lvl       2000.0         2      1145         655             9   \n...          ...          ...       ...       ...         ...           ...   \n1455         Lvl       1999.0         2       953           0             7   \n1456         Lvl       1978.0         2      2073         790             7   \n1457         Lvl       1941.0         2      1188         275             9   \n1458         Lvl       1950.0         1      1078          49             5   \n1459         Lvl       1965.0         1      1256         830             6   \n\n     ExterQual  OpenPorchSF Heating Condition2  ...  GarageCars  KitchenQual  \\\n0           Gd           61    GasA       Norm  ...           2           Gd   \n1           TA            0    GasA       Norm  ...           2           TA   \n2           Gd           42    GasA       Norm  ...           2           Gd   \n3           TA           35    GasA       Norm  ...           3           Gd   \n4           Gd           84    GasA       Norm  ...           3           Gd   \n...        ...          ...     ...        ...  ...         ...          ...   \n1455        TA           40    GasA       Norm  ...           2           TA   \n1456        TA            0    GasA       Norm  ...           2           TA   \n1457        Ex           60    GasA       Norm  ...           1           Gd   \n1458        TA            0    GasA       Norm  ...           1           Gd   \n1459        Gd           68    GasA       Norm  ...           1           TA   \n\n     KitchenAbvGr  GrLivArea  2ndFlrSF  CentralAir BsmtQual TotalBsmtSF  \\\n0               1       1710       854           Y       Gd         856   \n1               1       1262         0           Y       Gd        1262   \n2               1       1786       866           Y       Gd         920   \n3               1       1717       756           Y       TA         756   \n4               1       2198      1053           Y       Gd        1145   \n...           ...        ...       ...         ...      ...         ...   \n1455            1       1647       694           Y       Gd         953   \n1456            1       2073         0           Y       Gd        1542   \n1457            1       2340      1152           Y       TA        1152   \n1458            1       1078         0           Y       TA        1078   \n1459            1       1256         0           Y       TA        1256   \n\n      Fireplaces  SalePrice  \n0              0     208500  \n1              1     181500  \n2              1     223500  \n3              1     140000  \n4              1     250000  \n...          ...        ...  \n1455           1     175000  \n1456           2     210000  \n1457           2     266500  \n1458           0     142125  \n1459           0     147500  \n\n[1460 rows x 21 columns]",
      "text/html": "<div>\n<style scoped>\n    .dataframe tbody tr th:only-of-type {\n        vertical-align: middle;\n    }\n\n    .dataframe tbody tr th {\n        vertical-align: top;\n    }\n\n    .dataframe thead th {\n        text-align: right;\n    }\n</style>\n<table border=\"1\" class=\"dataframe\">\n  <thead>\n    <tr style=\"text-align: right;\">\n      <th></th>\n      <th>LandContour</th>\n      <th>GarageYrBlt</th>\n      <th>FullBath</th>\n      <th>1stFlrSF</th>\n      <th>BsmtFinSF1</th>\n      <th>TotRmsAbvGrd</th>\n      <th>ExterQual</th>\n      <th>OpenPorchSF</th>\n      <th>Heating</th>\n      <th>Condition2</th>\n      <th>...</th>\n      <th>GarageCars</th>\n      <th>KitchenQual</th>\n      <th>KitchenAbvGr</th>\n      <th>GrLivArea</th>\n      <th>2ndFlrSF</th>\n      <th>CentralAir</th>\n      <th>BsmtQual</th>\n      <th>TotalBsmtSF</th>\n      <th>Fireplaces</th>\n      <th>SalePrice</th>\n    </tr>\n  </thead>\n  <tbody>\n    <tr>\n      <th>0</th>\n      <td>Lvl</td>\n      <td>2003.0</td>\n      <td>2</td>\n      <td>856</td>\n      <td>706</td>\n      <td>8</td>\n      <td>Gd</td>\n      <td>61</td>\n      <td>GasA</td>\n      <td>Norm</td>\n      <td>...</td>\n      <td>2</td>\n      <td>Gd</td>\n      <td>1</td>\n      <td>1710</td>\n      <td>854</td>\n      <td>Y</td>\n      <td>Gd</td>\n      <td>856</td>\n      <td>0</td>\n      <td>208500</td>\n    </tr>\n    <tr>\n      <th>1</th>\n      <td>Lvl</td>\n      <td>1976.0</td>\n      <td>2</td>\n      <td>1262</td>\n      <td>978</td>\n      <td>6</td>\n      <td>TA</td>\n      <td>0</td>\n      <td>GasA</td>\n      <td>Norm</td>\n      <td>...</td>\n      <td>2</td>\n      <td>TA</td>\n      <td>1</td>\n      <td>1262</td>\n      <td>0</td>\n      <td>Y</td>\n      <td>Gd</td>\n      <td>1262</td>\n      <td>1</td>\n      <td>181500</td>\n    </tr>\n    <tr>\n      <th>2</th>\n      <td>Lvl</td>\n      <td>2001.0</td>\n      <td>2</td>\n      <td>920</td>\n      <td>486</td>\n      <td>6</td>\n      <td>Gd</td>\n      <td>42</td>\n      <td>GasA</td>\n      <td>Norm</td>\n      <td>...</td>\n      <td>2</td>\n      <td>Gd</td>\n      <td>1</td>\n      <td>1786</td>\n      <td>866</td>\n      <td>Y</td>\n      <td>Gd</td>\n      <td>920</td>\n      <td>1</td>\n      <td>223500</td>\n    </tr>\n    <tr>\n      <th>3</th>\n      <td>Lvl</td>\n      <td>1998.0</td>\n      <td>1</td>\n      <td>961</td>\n      <td>216</td>\n      <td>7</td>\n      <td>TA</td>\n      <td>35</td>\n      <td>GasA</td>\n      <td>Norm</td>\n      <td>...</td>\n      <td>3</td>\n      <td>Gd</td>\n      <td>1</td>\n      <td>1717</td>\n      <td>756</td>\n      <td>Y</td>\n      <td>TA</td>\n      <td>756</td>\n      <td>1</td>\n      <td>140000</td>\n    </tr>\n    <tr>\n      <th>4</th>\n      <td>Lvl</td>\n      <td>2000.0</td>\n      <td>2</td>\n      <td>1145</td>\n      <td>655</td>\n      <td>9</td>\n      <td>Gd</td>\n      <td>84</td>\n      <td>GasA</td>\n      <td>Norm</td>\n      <td>...</td>\n      <td>3</td>\n      <td>Gd</td>\n      <td>1</td>\n      <td>2198</td>\n      <td>1053</td>\n      <td>Y</td>\n      <td>Gd</td>\n      <td>1145</td>\n      <td>1</td>\n      <td>250000</td>\n    </tr>\n    <tr>\n      <th>...</th>\n      <td>...</td>\n      <td>...</td>\n      <td>...</td>\n      <td>...</td>\n      <td>...</td>\n      <td>...</td>\n      <td>...</td>\n      <td>...</td>\n      <td>...</td>\n      <td>...</td>\n      <td>...</td>\n      <td>...</td>\n      <td>...</td>\n      <td>...</td>\n      <td>...</td>\n      <td>...</td>\n      <td>...</td>\n      <td>...</td>\n      <td>...</td>\n      <td>...</td>\n      <td>...</td>\n    </tr>\n    <tr>\n      <th>1455</th>\n      <td>Lvl</td>\n      <td>1999.0</td>\n      <td>2</td>\n      <td>953</td>\n      <td>0</td>\n      <td>7</td>\n      <td>TA</td>\n      <td>40</td>\n      <td>GasA</td>\n      <td>Norm</td>\n      <td>...</td>\n      <td>2</td>\n      <td>TA</td>\n      <td>1</td>\n      <td>1647</td>\n      <td>694</td>\n      <td>Y</td>\n      <td>Gd</td>\n      <td>953</td>\n      <td>1</td>\n      <td>175000</td>\n    </tr>\n    <tr>\n      <th>1456</th>\n      <td>Lvl</td>\n      <td>1978.0</td>\n      <td>2</td>\n      <td>2073</td>\n      <td>790</td>\n      <td>7</td>\n      <td>TA</td>\n      <td>0</td>\n      <td>GasA</td>\n      <td>Norm</td>\n      <td>...</td>\n      <td>2</td>\n      <td>TA</td>\n      <td>1</td>\n      <td>2073</td>\n      <td>0</td>\n      <td>Y</td>\n      <td>Gd</td>\n      <td>1542</td>\n      <td>2</td>\n      <td>210000</td>\n    </tr>\n    <tr>\n      <th>1457</th>\n      <td>Lvl</td>\n      <td>1941.0</td>\n      <td>2</td>\n      <td>1188</td>\n      <td>275</td>\n      <td>9</td>\n      <td>Ex</td>\n      <td>60</td>\n      <td>GasA</td>\n      <td>Norm</td>\n      <td>...</td>\n      <td>1</td>\n      <td>Gd</td>\n      <td>1</td>\n      <td>2340</td>\n      <td>1152</td>\n      <td>Y</td>\n      <td>TA</td>\n      <td>1152</td>\n      <td>2</td>\n      <td>266500</td>\n    </tr>\n    <tr>\n      <th>1458</th>\n      <td>Lvl</td>\n      <td>1950.0</td>\n      <td>1</td>\n      <td>1078</td>\n      <td>49</td>\n      <td>5</td>\n      <td>TA</td>\n      <td>0</td>\n      <td>GasA</td>\n      <td>Norm</td>\n      <td>...</td>\n      <td>1</td>\n      <td>Gd</td>\n      <td>1</td>\n      <td>1078</td>\n      <td>0</td>\n      <td>Y</td>\n      <td>TA</td>\n      <td>1078</td>\n      <td>0</td>\n      <td>142125</td>\n    </tr>\n    <tr>\n      <th>1459</th>\n      <td>Lvl</td>\n      <td>1965.0</td>\n      <td>1</td>\n      <td>1256</td>\n      <td>830</td>\n      <td>6</td>\n      <td>Gd</td>\n      <td>68</td>\n      <td>GasA</td>\n      <td>Norm</td>\n      <td>...</td>\n      <td>1</td>\n      <td>TA</td>\n      <td>1</td>\n      <td>1256</td>\n      <td>0</td>\n      <td>Y</td>\n      <td>TA</td>\n      <td>1256</td>\n      <td>0</td>\n      <td>147500</td>\n    </tr>\n  </tbody>\n</table>\n<p>1460 rows × 21 columns</p>\n</div>"
     },
     "execution_count": 2,
     "metadata": {},
     "output_type": "execute_result"
    }
   ],
   "source": [
    "train_df = pd.read_csv('../data/train.csv')\n",
    "train_df"
   ],
   "metadata": {
    "collapsed": false,
    "ExecuteTime": {
     "end_time": "2024-05-05T14:23:42.793184800Z",
     "start_time": "2024-05-05T14:23:42.745157900Z"
    }
   }
  },
  {
   "cell_type": "code",
   "execution_count": 3,
   "outputs": [],
   "source": [
    "X_train = train_df.drop(columns='SalePrice')\n",
    "y_train = train_df['SalePrice']"
   ],
   "metadata": {
    "collapsed": false,
    "ExecuteTime": {
     "end_time": "2024-05-05T14:23:43.533312500Z",
     "start_time": "2024-05-05T14:23:43.509159Z"
    }
   }
  },
  {
   "cell_type": "code",
   "execution_count": 4,
   "outputs": [
    {
     "data": {
      "text/plain": "ColumnTransformer(transformers=[('pipeline-1',\n                                 Pipeline(steps=[('simpleimputer',\n                                                  SimpleImputer()),\n                                                 ('standardscaler',\n                                                  StandardScaler())]),\n                                 ['GarageYrBlt', '1stFlrSF', 'BsmtFinSF1',\n                                  'TotRmsAbvGrd', 'OpenPorchSF', 'GarageCars',\n                                  'GrLivArea', '2ndFlrSF', 'TotalBsmtSF']),\n                                ('pipeline-2',\n                                 Pipeline(steps=[('simpleimputer',\n                                                  SimpleImputer(strategy='most_frequent')),\n                                                 ('onehotencoder',\n                                                  OneHotEncoder(handle_unknown='ignore',\n                                                                sparse_output=False))]),\n                                 ['LandContour', 'FullBath', 'ExterQual',\n                                  'Heating', 'Condition2', 'OverallQual',\n                                  'KitchenQual', 'KitchenAbvGr', 'CentralAir',\n                                  'BsmtQual', 'Fireplaces'])])",
      "text/html": "<style>#sk-container-id-1 {color: black;background-color: white;}#sk-container-id-1 pre{padding: 0;}#sk-container-id-1 div.sk-toggleable {background-color: white;}#sk-container-id-1 label.sk-toggleable__label {cursor: pointer;display: block;width: 100%;margin-bottom: 0;padding: 0.3em;box-sizing: border-box;text-align: center;}#sk-container-id-1 label.sk-toggleable__label-arrow:before {content: \"▸\";float: left;margin-right: 0.25em;color: #696969;}#sk-container-id-1 label.sk-toggleable__label-arrow:hover:before {color: black;}#sk-container-id-1 div.sk-estimator:hover label.sk-toggleable__label-arrow:before {color: black;}#sk-container-id-1 div.sk-toggleable__content {max-height: 0;max-width: 0;overflow: hidden;text-align: left;background-color: #f0f8ff;}#sk-container-id-1 div.sk-toggleable__content pre {margin: 0.2em;color: black;border-radius: 0.25em;background-color: #f0f8ff;}#sk-container-id-1 input.sk-toggleable__control:checked~div.sk-toggleable__content {max-height: 200px;max-width: 100%;overflow: auto;}#sk-container-id-1 input.sk-toggleable__control:checked~label.sk-toggleable__label-arrow:before {content: \"▾\";}#sk-container-id-1 div.sk-estimator input.sk-toggleable__control:checked~label.sk-toggleable__label {background-color: #d4ebff;}#sk-container-id-1 div.sk-label input.sk-toggleable__control:checked~label.sk-toggleable__label {background-color: #d4ebff;}#sk-container-id-1 input.sk-hidden--visually {border: 0;clip: rect(1px 1px 1px 1px);clip: rect(1px, 1px, 1px, 1px);height: 1px;margin: -1px;overflow: hidden;padding: 0;position: absolute;width: 1px;}#sk-container-id-1 div.sk-estimator {font-family: monospace;background-color: #f0f8ff;border: 1px dotted black;border-radius: 0.25em;box-sizing: border-box;margin-bottom: 0.5em;}#sk-container-id-1 div.sk-estimator:hover {background-color: #d4ebff;}#sk-container-id-1 div.sk-parallel-item::after {content: \"\";width: 100%;border-bottom: 1px solid gray;flex-grow: 1;}#sk-container-id-1 div.sk-label:hover label.sk-toggleable__label {background-color: #d4ebff;}#sk-container-id-1 div.sk-serial::before {content: \"\";position: absolute;border-left: 1px solid gray;box-sizing: border-box;top: 0;bottom: 0;left: 50%;z-index: 0;}#sk-container-id-1 div.sk-serial {display: flex;flex-direction: column;align-items: center;background-color: white;padding-right: 0.2em;padding-left: 0.2em;position: relative;}#sk-container-id-1 div.sk-item {position: relative;z-index: 1;}#sk-container-id-1 div.sk-parallel {display: flex;align-items: stretch;justify-content: center;background-color: white;position: relative;}#sk-container-id-1 div.sk-item::before, #sk-container-id-1 div.sk-parallel-item::before {content: \"\";position: absolute;border-left: 1px solid gray;box-sizing: border-box;top: 0;bottom: 0;left: 50%;z-index: -1;}#sk-container-id-1 div.sk-parallel-item {display: flex;flex-direction: column;z-index: 1;position: relative;background-color: white;}#sk-container-id-1 div.sk-parallel-item:first-child::after {align-self: flex-end;width: 50%;}#sk-container-id-1 div.sk-parallel-item:last-child::after {align-self: flex-start;width: 50%;}#sk-container-id-1 div.sk-parallel-item:only-child::after {width: 0;}#sk-container-id-1 div.sk-dashed-wrapped {border: 1px dashed gray;margin: 0 0.4em 0.5em 0.4em;box-sizing: border-box;padding-bottom: 0.4em;background-color: white;}#sk-container-id-1 div.sk-label label {font-family: monospace;font-weight: bold;display: inline-block;line-height: 1.2em;}#sk-container-id-1 div.sk-label-container {text-align: center;}#sk-container-id-1 div.sk-container {/* jupyter's `normalize.less` sets `[hidden] { display: none; }` but bootstrap.min.css set `[hidden] { display: none !important; }` so we also need the `!important` here to be able to override the default hidden behavior on the sphinx rendered scikit-learn.org. See: https://github.com/scikit-learn/scikit-learn/issues/21755 */display: inline-block !important;position: relative;}#sk-container-id-1 div.sk-text-repr-fallback {display: none;}</style><div id=\"sk-container-id-1\" class=\"sk-top-container\"><div class=\"sk-text-repr-fallback\"><pre>ColumnTransformer(transformers=[(&#x27;pipeline-1&#x27;,\n                                 Pipeline(steps=[(&#x27;simpleimputer&#x27;,\n                                                  SimpleImputer()),\n                                                 (&#x27;standardscaler&#x27;,\n                                                  StandardScaler())]),\n                                 [&#x27;GarageYrBlt&#x27;, &#x27;1stFlrSF&#x27;, &#x27;BsmtFinSF1&#x27;,\n                                  &#x27;TotRmsAbvGrd&#x27;, &#x27;OpenPorchSF&#x27;, &#x27;GarageCars&#x27;,\n                                  &#x27;GrLivArea&#x27;, &#x27;2ndFlrSF&#x27;, &#x27;TotalBsmtSF&#x27;]),\n                                (&#x27;pipeline-2&#x27;,\n                                 Pipeline(steps=[(&#x27;simpleimputer&#x27;,\n                                                  SimpleImputer(strategy=&#x27;most_frequent&#x27;)),\n                                                 (&#x27;onehotencoder&#x27;,\n                                                  OneHotEncoder(handle_unknown=&#x27;ignore&#x27;,\n                                                                sparse_output=False))]),\n                                 [&#x27;LandContour&#x27;, &#x27;FullBath&#x27;, &#x27;ExterQual&#x27;,\n                                  &#x27;Heating&#x27;, &#x27;Condition2&#x27;, &#x27;OverallQual&#x27;,\n                                  &#x27;KitchenQual&#x27;, &#x27;KitchenAbvGr&#x27;, &#x27;CentralAir&#x27;,\n                                  &#x27;BsmtQual&#x27;, &#x27;Fireplaces&#x27;])])</pre><b>In a Jupyter environment, please rerun this cell to show the HTML representation or trust the notebook. <br />On GitHub, the HTML representation is unable to render, please try loading this page with nbviewer.org.</b></div><div class=\"sk-container\" hidden><div class=\"sk-item sk-dashed-wrapped\"><div class=\"sk-label-container\"><div class=\"sk-label sk-toggleable\"><input class=\"sk-toggleable__control sk-hidden--visually\" id=\"sk-estimator-id-1\" type=\"checkbox\" ><label for=\"sk-estimator-id-1\" class=\"sk-toggleable__label sk-toggleable__label-arrow\">ColumnTransformer</label><div class=\"sk-toggleable__content\"><pre>ColumnTransformer(transformers=[(&#x27;pipeline-1&#x27;,\n                                 Pipeline(steps=[(&#x27;simpleimputer&#x27;,\n                                                  SimpleImputer()),\n                                                 (&#x27;standardscaler&#x27;,\n                                                  StandardScaler())]),\n                                 [&#x27;GarageYrBlt&#x27;, &#x27;1stFlrSF&#x27;, &#x27;BsmtFinSF1&#x27;,\n                                  &#x27;TotRmsAbvGrd&#x27;, &#x27;OpenPorchSF&#x27;, &#x27;GarageCars&#x27;,\n                                  &#x27;GrLivArea&#x27;, &#x27;2ndFlrSF&#x27;, &#x27;TotalBsmtSF&#x27;]),\n                                (&#x27;pipeline-2&#x27;,\n                                 Pipeline(steps=[(&#x27;simpleimputer&#x27;,\n                                                  SimpleImputer(strategy=&#x27;most_frequent&#x27;)),\n                                                 (&#x27;onehotencoder&#x27;,\n                                                  OneHotEncoder(handle_unknown=&#x27;ignore&#x27;,\n                                                                sparse_output=False))]),\n                                 [&#x27;LandContour&#x27;, &#x27;FullBath&#x27;, &#x27;ExterQual&#x27;,\n                                  &#x27;Heating&#x27;, &#x27;Condition2&#x27;, &#x27;OverallQual&#x27;,\n                                  &#x27;KitchenQual&#x27;, &#x27;KitchenAbvGr&#x27;, &#x27;CentralAir&#x27;,\n                                  &#x27;BsmtQual&#x27;, &#x27;Fireplaces&#x27;])])</pre></div></div></div><div class=\"sk-parallel\"><div class=\"sk-parallel-item\"><div class=\"sk-item\"><div class=\"sk-label-container\"><div class=\"sk-label sk-toggleable\"><input class=\"sk-toggleable__control sk-hidden--visually\" id=\"sk-estimator-id-2\" type=\"checkbox\" ><label for=\"sk-estimator-id-2\" class=\"sk-toggleable__label sk-toggleable__label-arrow\">pipeline-1</label><div class=\"sk-toggleable__content\"><pre>[&#x27;GarageYrBlt&#x27;, &#x27;1stFlrSF&#x27;, &#x27;BsmtFinSF1&#x27;, &#x27;TotRmsAbvGrd&#x27;, &#x27;OpenPorchSF&#x27;, &#x27;GarageCars&#x27;, &#x27;GrLivArea&#x27;, &#x27;2ndFlrSF&#x27;, &#x27;TotalBsmtSF&#x27;]</pre></div></div></div><div class=\"sk-serial\"><div class=\"sk-item\"><div class=\"sk-serial\"><div class=\"sk-item\"><div class=\"sk-estimator sk-toggleable\"><input class=\"sk-toggleable__control sk-hidden--visually\" id=\"sk-estimator-id-3\" type=\"checkbox\" ><label for=\"sk-estimator-id-3\" class=\"sk-toggleable__label sk-toggleable__label-arrow\">SimpleImputer</label><div class=\"sk-toggleable__content\"><pre>SimpleImputer()</pre></div></div></div><div class=\"sk-item\"><div class=\"sk-estimator sk-toggleable\"><input class=\"sk-toggleable__control sk-hidden--visually\" id=\"sk-estimator-id-4\" type=\"checkbox\" ><label for=\"sk-estimator-id-4\" class=\"sk-toggleable__label sk-toggleable__label-arrow\">StandardScaler</label><div class=\"sk-toggleable__content\"><pre>StandardScaler()</pre></div></div></div></div></div></div></div></div><div class=\"sk-parallel-item\"><div class=\"sk-item\"><div class=\"sk-label-container\"><div class=\"sk-label sk-toggleable\"><input class=\"sk-toggleable__control sk-hidden--visually\" id=\"sk-estimator-id-5\" type=\"checkbox\" ><label for=\"sk-estimator-id-5\" class=\"sk-toggleable__label sk-toggleable__label-arrow\">pipeline-2</label><div class=\"sk-toggleable__content\"><pre>[&#x27;LandContour&#x27;, &#x27;FullBath&#x27;, &#x27;ExterQual&#x27;, &#x27;Heating&#x27;, &#x27;Condition2&#x27;, &#x27;OverallQual&#x27;, &#x27;KitchenQual&#x27;, &#x27;KitchenAbvGr&#x27;, &#x27;CentralAir&#x27;, &#x27;BsmtQual&#x27;, &#x27;Fireplaces&#x27;]</pre></div></div></div><div class=\"sk-serial\"><div class=\"sk-item\"><div class=\"sk-serial\"><div class=\"sk-item\"><div class=\"sk-estimator sk-toggleable\"><input class=\"sk-toggleable__control sk-hidden--visually\" id=\"sk-estimator-id-6\" type=\"checkbox\" ><label for=\"sk-estimator-id-6\" class=\"sk-toggleable__label sk-toggleable__label-arrow\">SimpleImputer</label><div class=\"sk-toggleable__content\"><pre>SimpleImputer(strategy=&#x27;most_frequent&#x27;)</pre></div></div></div><div class=\"sk-item\"><div class=\"sk-estimator sk-toggleable\"><input class=\"sk-toggleable__control sk-hidden--visually\" id=\"sk-estimator-id-7\" type=\"checkbox\" ><label for=\"sk-estimator-id-7\" class=\"sk-toggleable__label sk-toggleable__label-arrow\">OneHotEncoder</label><div class=\"sk-toggleable__content\"><pre>OneHotEncoder(handle_unknown=&#x27;ignore&#x27;, sparse_output=False)</pre></div></div></div></div></div></div></div></div></div></div></div></div>"
     },
     "execution_count": 4,
     "metadata": {},
     "output_type": "execute_result"
    }
   ],
   "source": [
    "num_cols = ['GarageYrBlt', '1stFlrSF', 'BsmtFinSF1',\n",
    "            'TotRmsAbvGrd', 'OpenPorchSF', 'GarageCars', 'GrLivArea', '2ndFlrSF', 'TotalBsmtSF']\n",
    "\n",
    "cat_cols = [col for col in X_train.columns if not col in num_cols]\n",
    "\n",
    "\n",
    "numeric_transformer = make_pipeline(\n",
    "    SimpleImputer(strategy='mean'),\n",
    "    StandardScaler()\n",
    ")\n",
    "\n",
    "categorical_transformer = make_pipeline(\n",
    "    SimpleImputer(strategy='most_frequent'),\n",
    "    OneHotEncoder(sparse_output=False, handle_unknown='ignore')\n",
    ")\n",
    "\n",
    "\n",
    "preprocessor = make_column_transformer(\n",
    "    (numeric_transformer, num_cols),\n",
    "    (categorical_transformer, cat_cols)\n",
    ")\n",
    "\n",
    "preprocessor"
   ],
   "metadata": {
    "collapsed": false,
    "ExecuteTime": {
     "end_time": "2024-05-05T14:23:44.128529800Z",
     "start_time": "2024-05-05T14:23:44.090305200Z"
    }
   }
  },
  {
   "cell_type": "code",
   "execution_count": 5,
   "outputs": [
    {
     "name": "stderr",
     "output_type": "stream",
     "text": [
      "C:\\Users\\misha\\anaconda3\\lib\\site-packages\\sklearn\\neural_network\\_multilayer_perceptron.py:686: ConvergenceWarning: Stochastic Optimizer: Maximum iterations (200) reached and the optimization hasn't converged yet.\n",
      "  warnings.warn(\n",
      "C:\\Users\\misha\\anaconda3\\lib\\site-packages\\sklearn\\neural_network\\_multilayer_perceptron.py:686: ConvergenceWarning: Stochastic Optimizer: Maximum iterations (200) reached and the optimization hasn't converged yet.\n",
      "  warnings.warn(\n",
      "C:\\Users\\misha\\anaconda3\\lib\\site-packages\\sklearn\\neural_network\\_multilayer_perceptron.py:686: ConvergenceWarning: Stochastic Optimizer: Maximum iterations (200) reached and the optimization hasn't converged yet.\n",
      "  warnings.warn(\n"
     ]
    },
    {
     "data": {
      "text/plain": "                     model  r2_score    r2_std  \\\n0  RandomForestRegressor()  0.851299  0.026259   \n1       LinearRegression()  0.798240  0.049901   \n2                    SVR() -0.053913  0.023465   \n3  DecisionTreeRegressor()  0.684621  0.039622   \n4           MLPRegressor() -5.084605  0.280612   \n\n                                            pipeline  \n0  (ColumnTransformer(transformers=[('pipeline-1'...  \n1  (ColumnTransformer(transformers=[('pipeline-1'...  \n2  (ColumnTransformer(transformers=[('pipeline-1'...  \n3  (ColumnTransformer(transformers=[('pipeline-1'...  \n4  (ColumnTransformer(transformers=[('pipeline-1'...  ",
      "text/html": "<div>\n<style scoped>\n    .dataframe tbody tr th:only-of-type {\n        vertical-align: middle;\n    }\n\n    .dataframe tbody tr th {\n        vertical-align: top;\n    }\n\n    .dataframe thead th {\n        text-align: right;\n    }\n</style>\n<table border=\"1\" class=\"dataframe\">\n  <thead>\n    <tr style=\"text-align: right;\">\n      <th></th>\n      <th>model</th>\n      <th>r2_score</th>\n      <th>r2_std</th>\n      <th>pipeline</th>\n    </tr>\n  </thead>\n  <tbody>\n    <tr>\n      <th>0</th>\n      <td>RandomForestRegressor()</td>\n      <td>0.851299</td>\n      <td>0.026259</td>\n      <td>(ColumnTransformer(transformers=[('pipeline-1'...</td>\n    </tr>\n    <tr>\n      <th>1</th>\n      <td>LinearRegression()</td>\n      <td>0.798240</td>\n      <td>0.049901</td>\n      <td>(ColumnTransformer(transformers=[('pipeline-1'...</td>\n    </tr>\n    <tr>\n      <th>2</th>\n      <td>SVR()</td>\n      <td>-0.053913</td>\n      <td>0.023465</td>\n      <td>(ColumnTransformer(transformers=[('pipeline-1'...</td>\n    </tr>\n    <tr>\n      <th>3</th>\n      <td>DecisionTreeRegressor()</td>\n      <td>0.684621</td>\n      <td>0.039622</td>\n      <td>(ColumnTransformer(transformers=[('pipeline-1'...</td>\n    </tr>\n    <tr>\n      <th>4</th>\n      <td>MLPRegressor()</td>\n      <td>-5.084605</td>\n      <td>0.280612</td>\n      <td>(ColumnTransformer(transformers=[('pipeline-1'...</td>\n    </tr>\n  </tbody>\n</table>\n</div>"
     },
     "execution_count": 5,
     "metadata": {},
     "output_type": "execute_result"
    }
   ],
   "source": [
    "# Choosing the best model\n",
    "models = [RandomForestRegressor(), LinearRegression(), SVR(), DecisionTreeRegressor(), MLPRegressor()]\n",
    "metrics = []\n",
    "std_l = []\n",
    "pipeline_l = []\n",
    "\n",
    "for model in models:\n",
    "    regressor_pipeline = make_pipeline(\n",
    "        preprocessor,\n",
    "        model\n",
    "    )\n",
    "\n",
    "    cv = cross_val_score(regressor_pipeline, X_train, y_train, cv=3)\n",
    "\n",
    "    metrics.append(cv.mean())\n",
    "    std_l.append(cv.std())\n",
    "    pipeline_l.append(regressor_pipeline)\n",
    "\n",
    "metrics_df = pd.DataFrame({'model': models, 'r2_score': metrics, 'r2_std': std_l, 'pipeline': pipeline_l})\n",
    "metrics_df"
   ],
   "metadata": {
    "collapsed": false,
    "ExecuteTime": {
     "end_time": "2024-05-05T14:23:49.794907300Z",
     "start_time": "2024-05-05T14:23:44.598623300Z"
    }
   }
  },
  {
   "cell_type": "code",
   "execution_count": 6,
   "outputs": [
    {
     "data": {
      "text/plain": "Pipeline(steps=[('columntransformer',\n                 ColumnTransformer(transformers=[('pipeline-1',\n                                                  Pipeline(steps=[('simpleimputer',\n                                                                   SimpleImputer()),\n                                                                  ('standardscaler',\n                                                                   StandardScaler())]),\n                                                  ['GarageYrBlt', '1stFlrSF',\n                                                   'BsmtFinSF1', 'TotRmsAbvGrd',\n                                                   'OpenPorchSF', 'GarageCars',\n                                                   'GrLivArea', '2ndFlrSF',\n                                                   'TotalBsmtSF']),\n                                                 ('pipeline-2',\n                                                  Pipeline(steps=[('simpleimputer',\n                                                                   SimpleImputer(strategy='most_frequent')),\n                                                                  ('onehotencoder',\n                                                                   OneHotEncoder(handle_unknown='ignore',\n                                                                                 sparse_output=False))]),\n                                                  ['LandContour', 'FullBath',\n                                                   'ExterQual', 'Heating',\n                                                   'Condition2', 'OverallQual',\n                                                   'KitchenQual',\n                                                   'KitchenAbvGr', 'CentralAir',\n                                                   'BsmtQual',\n                                                   'Fireplaces'])])),\n                ('randomforestregressor', RandomForestRegressor())])",
      "text/html": "<style>#sk-container-id-2 {color: black;background-color: white;}#sk-container-id-2 pre{padding: 0;}#sk-container-id-2 div.sk-toggleable {background-color: white;}#sk-container-id-2 label.sk-toggleable__label {cursor: pointer;display: block;width: 100%;margin-bottom: 0;padding: 0.3em;box-sizing: border-box;text-align: center;}#sk-container-id-2 label.sk-toggleable__label-arrow:before {content: \"▸\";float: left;margin-right: 0.25em;color: #696969;}#sk-container-id-2 label.sk-toggleable__label-arrow:hover:before {color: black;}#sk-container-id-2 div.sk-estimator:hover label.sk-toggleable__label-arrow:before {color: black;}#sk-container-id-2 div.sk-toggleable__content {max-height: 0;max-width: 0;overflow: hidden;text-align: left;background-color: #f0f8ff;}#sk-container-id-2 div.sk-toggleable__content pre {margin: 0.2em;color: black;border-radius: 0.25em;background-color: #f0f8ff;}#sk-container-id-2 input.sk-toggleable__control:checked~div.sk-toggleable__content {max-height: 200px;max-width: 100%;overflow: auto;}#sk-container-id-2 input.sk-toggleable__control:checked~label.sk-toggleable__label-arrow:before {content: \"▾\";}#sk-container-id-2 div.sk-estimator input.sk-toggleable__control:checked~label.sk-toggleable__label {background-color: #d4ebff;}#sk-container-id-2 div.sk-label input.sk-toggleable__control:checked~label.sk-toggleable__label {background-color: #d4ebff;}#sk-container-id-2 input.sk-hidden--visually {border: 0;clip: rect(1px 1px 1px 1px);clip: rect(1px, 1px, 1px, 1px);height: 1px;margin: -1px;overflow: hidden;padding: 0;position: absolute;width: 1px;}#sk-container-id-2 div.sk-estimator {font-family: monospace;background-color: #f0f8ff;border: 1px dotted black;border-radius: 0.25em;box-sizing: border-box;margin-bottom: 0.5em;}#sk-container-id-2 div.sk-estimator:hover {background-color: #d4ebff;}#sk-container-id-2 div.sk-parallel-item::after {content: \"\";width: 100%;border-bottom: 1px solid gray;flex-grow: 1;}#sk-container-id-2 div.sk-label:hover label.sk-toggleable__label {background-color: #d4ebff;}#sk-container-id-2 div.sk-serial::before {content: \"\";position: absolute;border-left: 1px solid gray;box-sizing: border-box;top: 0;bottom: 0;left: 50%;z-index: 0;}#sk-container-id-2 div.sk-serial {display: flex;flex-direction: column;align-items: center;background-color: white;padding-right: 0.2em;padding-left: 0.2em;position: relative;}#sk-container-id-2 div.sk-item {position: relative;z-index: 1;}#sk-container-id-2 div.sk-parallel {display: flex;align-items: stretch;justify-content: center;background-color: white;position: relative;}#sk-container-id-2 div.sk-item::before, #sk-container-id-2 div.sk-parallel-item::before {content: \"\";position: absolute;border-left: 1px solid gray;box-sizing: border-box;top: 0;bottom: 0;left: 50%;z-index: -1;}#sk-container-id-2 div.sk-parallel-item {display: flex;flex-direction: column;z-index: 1;position: relative;background-color: white;}#sk-container-id-2 div.sk-parallel-item:first-child::after {align-self: flex-end;width: 50%;}#sk-container-id-2 div.sk-parallel-item:last-child::after {align-self: flex-start;width: 50%;}#sk-container-id-2 div.sk-parallel-item:only-child::after {width: 0;}#sk-container-id-2 div.sk-dashed-wrapped {border: 1px dashed gray;margin: 0 0.4em 0.5em 0.4em;box-sizing: border-box;padding-bottom: 0.4em;background-color: white;}#sk-container-id-2 div.sk-label label {font-family: monospace;font-weight: bold;display: inline-block;line-height: 1.2em;}#sk-container-id-2 div.sk-label-container {text-align: center;}#sk-container-id-2 div.sk-container {/* jupyter's `normalize.less` sets `[hidden] { display: none; }` but bootstrap.min.css set `[hidden] { display: none !important; }` so we also need the `!important` here to be able to override the default hidden behavior on the sphinx rendered scikit-learn.org. See: https://github.com/scikit-learn/scikit-learn/issues/21755 */display: inline-block !important;position: relative;}#sk-container-id-2 div.sk-text-repr-fallback {display: none;}</style><div id=\"sk-container-id-2\" class=\"sk-top-container\"><div class=\"sk-text-repr-fallback\"><pre>Pipeline(steps=[(&#x27;columntransformer&#x27;,\n                 ColumnTransformer(transformers=[(&#x27;pipeline-1&#x27;,\n                                                  Pipeline(steps=[(&#x27;simpleimputer&#x27;,\n                                                                   SimpleImputer()),\n                                                                  (&#x27;standardscaler&#x27;,\n                                                                   StandardScaler())]),\n                                                  [&#x27;GarageYrBlt&#x27;, &#x27;1stFlrSF&#x27;,\n                                                   &#x27;BsmtFinSF1&#x27;, &#x27;TotRmsAbvGrd&#x27;,\n                                                   &#x27;OpenPorchSF&#x27;, &#x27;GarageCars&#x27;,\n                                                   &#x27;GrLivArea&#x27;, &#x27;2ndFlrSF&#x27;,\n                                                   &#x27;TotalBsmtSF&#x27;]),\n                                                 (&#x27;pipeline-2&#x27;,\n                                                  Pipeline(steps=[(&#x27;simpleimputer&#x27;,\n                                                                   SimpleImputer(strategy=&#x27;most_frequent&#x27;)),\n                                                                  (&#x27;onehotencoder&#x27;,\n                                                                   OneHotEncoder(handle_unknown=&#x27;ignore&#x27;,\n                                                                                 sparse_output=False))]),\n                                                  [&#x27;LandContour&#x27;, &#x27;FullBath&#x27;,\n                                                   &#x27;ExterQual&#x27;, &#x27;Heating&#x27;,\n                                                   &#x27;Condition2&#x27;, &#x27;OverallQual&#x27;,\n                                                   &#x27;KitchenQual&#x27;,\n                                                   &#x27;KitchenAbvGr&#x27;, &#x27;CentralAir&#x27;,\n                                                   &#x27;BsmtQual&#x27;,\n                                                   &#x27;Fireplaces&#x27;])])),\n                (&#x27;randomforestregressor&#x27;, RandomForestRegressor())])</pre><b>In a Jupyter environment, please rerun this cell to show the HTML representation or trust the notebook. <br />On GitHub, the HTML representation is unable to render, please try loading this page with nbviewer.org.</b></div><div class=\"sk-container\" hidden><div class=\"sk-item sk-dashed-wrapped\"><div class=\"sk-label-container\"><div class=\"sk-label sk-toggleable\"><input class=\"sk-toggleable__control sk-hidden--visually\" id=\"sk-estimator-id-8\" type=\"checkbox\" ><label for=\"sk-estimator-id-8\" class=\"sk-toggleable__label sk-toggleable__label-arrow\">Pipeline</label><div class=\"sk-toggleable__content\"><pre>Pipeline(steps=[(&#x27;columntransformer&#x27;,\n                 ColumnTransformer(transformers=[(&#x27;pipeline-1&#x27;,\n                                                  Pipeline(steps=[(&#x27;simpleimputer&#x27;,\n                                                                   SimpleImputer()),\n                                                                  (&#x27;standardscaler&#x27;,\n                                                                   StandardScaler())]),\n                                                  [&#x27;GarageYrBlt&#x27;, &#x27;1stFlrSF&#x27;,\n                                                   &#x27;BsmtFinSF1&#x27;, &#x27;TotRmsAbvGrd&#x27;,\n                                                   &#x27;OpenPorchSF&#x27;, &#x27;GarageCars&#x27;,\n                                                   &#x27;GrLivArea&#x27;, &#x27;2ndFlrSF&#x27;,\n                                                   &#x27;TotalBsmtSF&#x27;]),\n                                                 (&#x27;pipeline-2&#x27;,\n                                                  Pipeline(steps=[(&#x27;simpleimputer&#x27;,\n                                                                   SimpleImputer(strategy=&#x27;most_frequent&#x27;)),\n                                                                  (&#x27;onehotencoder&#x27;,\n                                                                   OneHotEncoder(handle_unknown=&#x27;ignore&#x27;,\n                                                                                 sparse_output=False))]),\n                                                  [&#x27;LandContour&#x27;, &#x27;FullBath&#x27;,\n                                                   &#x27;ExterQual&#x27;, &#x27;Heating&#x27;,\n                                                   &#x27;Condition2&#x27;, &#x27;OverallQual&#x27;,\n                                                   &#x27;KitchenQual&#x27;,\n                                                   &#x27;KitchenAbvGr&#x27;, &#x27;CentralAir&#x27;,\n                                                   &#x27;BsmtQual&#x27;,\n                                                   &#x27;Fireplaces&#x27;])])),\n                (&#x27;randomforestregressor&#x27;, RandomForestRegressor())])</pre></div></div></div><div class=\"sk-serial\"><div class=\"sk-item sk-dashed-wrapped\"><div class=\"sk-label-container\"><div class=\"sk-label sk-toggleable\"><input class=\"sk-toggleable__control sk-hidden--visually\" id=\"sk-estimator-id-9\" type=\"checkbox\" ><label for=\"sk-estimator-id-9\" class=\"sk-toggleable__label sk-toggleable__label-arrow\">columntransformer: ColumnTransformer</label><div class=\"sk-toggleable__content\"><pre>ColumnTransformer(transformers=[(&#x27;pipeline-1&#x27;,\n                                 Pipeline(steps=[(&#x27;simpleimputer&#x27;,\n                                                  SimpleImputer()),\n                                                 (&#x27;standardscaler&#x27;,\n                                                  StandardScaler())]),\n                                 [&#x27;GarageYrBlt&#x27;, &#x27;1stFlrSF&#x27;, &#x27;BsmtFinSF1&#x27;,\n                                  &#x27;TotRmsAbvGrd&#x27;, &#x27;OpenPorchSF&#x27;, &#x27;GarageCars&#x27;,\n                                  &#x27;GrLivArea&#x27;, &#x27;2ndFlrSF&#x27;, &#x27;TotalBsmtSF&#x27;]),\n                                (&#x27;pipeline-2&#x27;,\n                                 Pipeline(steps=[(&#x27;simpleimputer&#x27;,\n                                                  SimpleImputer(strategy=&#x27;most_frequent&#x27;)),\n                                                 (&#x27;onehotencoder&#x27;,\n                                                  OneHotEncoder(handle_unknown=&#x27;ignore&#x27;,\n                                                                sparse_output=False))]),\n                                 [&#x27;LandContour&#x27;, &#x27;FullBath&#x27;, &#x27;ExterQual&#x27;,\n                                  &#x27;Heating&#x27;, &#x27;Condition2&#x27;, &#x27;OverallQual&#x27;,\n                                  &#x27;KitchenQual&#x27;, &#x27;KitchenAbvGr&#x27;, &#x27;CentralAir&#x27;,\n                                  &#x27;BsmtQual&#x27;, &#x27;Fireplaces&#x27;])])</pre></div></div></div><div class=\"sk-parallel\"><div class=\"sk-parallel-item\"><div class=\"sk-item\"><div class=\"sk-label-container\"><div class=\"sk-label sk-toggleable\"><input class=\"sk-toggleable__control sk-hidden--visually\" id=\"sk-estimator-id-10\" type=\"checkbox\" ><label for=\"sk-estimator-id-10\" class=\"sk-toggleable__label sk-toggleable__label-arrow\">pipeline-1</label><div class=\"sk-toggleable__content\"><pre>[&#x27;GarageYrBlt&#x27;, &#x27;1stFlrSF&#x27;, &#x27;BsmtFinSF1&#x27;, &#x27;TotRmsAbvGrd&#x27;, &#x27;OpenPorchSF&#x27;, &#x27;GarageCars&#x27;, &#x27;GrLivArea&#x27;, &#x27;2ndFlrSF&#x27;, &#x27;TotalBsmtSF&#x27;]</pre></div></div></div><div class=\"sk-serial\"><div class=\"sk-item\"><div class=\"sk-serial\"><div class=\"sk-item\"><div class=\"sk-estimator sk-toggleable\"><input class=\"sk-toggleable__control sk-hidden--visually\" id=\"sk-estimator-id-11\" type=\"checkbox\" ><label for=\"sk-estimator-id-11\" class=\"sk-toggleable__label sk-toggleable__label-arrow\">SimpleImputer</label><div class=\"sk-toggleable__content\"><pre>SimpleImputer()</pre></div></div></div><div class=\"sk-item\"><div class=\"sk-estimator sk-toggleable\"><input class=\"sk-toggleable__control sk-hidden--visually\" id=\"sk-estimator-id-12\" type=\"checkbox\" ><label for=\"sk-estimator-id-12\" class=\"sk-toggleable__label sk-toggleable__label-arrow\">StandardScaler</label><div class=\"sk-toggleable__content\"><pre>StandardScaler()</pre></div></div></div></div></div></div></div></div><div class=\"sk-parallel-item\"><div class=\"sk-item\"><div class=\"sk-label-container\"><div class=\"sk-label sk-toggleable\"><input class=\"sk-toggleable__control sk-hidden--visually\" id=\"sk-estimator-id-13\" type=\"checkbox\" ><label for=\"sk-estimator-id-13\" class=\"sk-toggleable__label sk-toggleable__label-arrow\">pipeline-2</label><div class=\"sk-toggleable__content\"><pre>[&#x27;LandContour&#x27;, &#x27;FullBath&#x27;, &#x27;ExterQual&#x27;, &#x27;Heating&#x27;, &#x27;Condition2&#x27;, &#x27;OverallQual&#x27;, &#x27;KitchenQual&#x27;, &#x27;KitchenAbvGr&#x27;, &#x27;CentralAir&#x27;, &#x27;BsmtQual&#x27;, &#x27;Fireplaces&#x27;]</pre></div></div></div><div class=\"sk-serial\"><div class=\"sk-item\"><div class=\"sk-serial\"><div class=\"sk-item\"><div class=\"sk-estimator sk-toggleable\"><input class=\"sk-toggleable__control sk-hidden--visually\" id=\"sk-estimator-id-14\" type=\"checkbox\" ><label for=\"sk-estimator-id-14\" class=\"sk-toggleable__label sk-toggleable__label-arrow\">SimpleImputer</label><div class=\"sk-toggleable__content\"><pre>SimpleImputer(strategy=&#x27;most_frequent&#x27;)</pre></div></div></div><div class=\"sk-item\"><div class=\"sk-estimator sk-toggleable\"><input class=\"sk-toggleable__control sk-hidden--visually\" id=\"sk-estimator-id-15\" type=\"checkbox\" ><label for=\"sk-estimator-id-15\" class=\"sk-toggleable__label sk-toggleable__label-arrow\">OneHotEncoder</label><div class=\"sk-toggleable__content\"><pre>OneHotEncoder(handle_unknown=&#x27;ignore&#x27;, sparse_output=False)</pre></div></div></div></div></div></div></div></div></div></div><div class=\"sk-item\"><div class=\"sk-estimator sk-toggleable\"><input class=\"sk-toggleable__control sk-hidden--visually\" id=\"sk-estimator-id-16\" type=\"checkbox\" ><label for=\"sk-estimator-id-16\" class=\"sk-toggleable__label sk-toggleable__label-arrow\">RandomForestRegressor</label><div class=\"sk-toggleable__content\"><pre>RandomForestRegressor()</pre></div></div></div></div></div></div></div>"
     },
     "execution_count": 6,
     "metadata": {},
     "output_type": "execute_result"
    }
   ],
   "source": [
    "best_pipeline =  metrics_df.loc[metrics_df['r2_score']== metrics_df['r2_score'].max(), 'pipeline'][0]\n",
    "best_pipeline.fit(X_train, y_train)\n",
    "best_pipeline\n",
    "\n",
    "# We can also make grid search, but it's enough for now"
   ],
   "metadata": {
    "collapsed": false,
    "ExecuteTime": {
     "end_time": "2024-05-05T14:23:50.747590500Z",
     "start_time": "2024-05-05T14:23:49.799904800Z"
    }
   }
  },
  {
   "cell_type": "code",
   "execution_count": 9,
   "outputs": [],
   "source": [
    "import pickle\n",
    "\n",
    "with open('../../server/best_regressor_pipeline.pkl', 'wb') as f:\n",
    "    pickle.dump(best_pipeline, f)"
   ],
   "metadata": {
    "collapsed": false,
    "ExecuteTime": {
     "end_time": "2024-05-05T14:24:13.197503Z",
     "start_time": "2024-05-05T14:24:13.171821300Z"
    }
   }
  },
  {
   "cell_type": "code",
   "execution_count": 9,
   "outputs": [],
   "source": [],
   "metadata": {
    "collapsed": false,
    "ExecuteTime": {
     "end_time": "2024-05-05T14:24:47.906747800Z",
     "start_time": "2024-05-05T14:24:47.890257Z"
    }
   }
  },
  {
   "cell_type": "code",
   "execution_count": 69,
   "outputs": [
    {
     "name": "stdout",
     "output_type": "stream",
     "text": [
      "[206870.0, 177102.95, 217425.0, 169444.2, 258903.26, 140499.93, 303327.72, 210272.96, 148165.5, 122989.5, 130449.0, 345066.27, 139169.0, 252406.13, 155509.5, 130310.76, 149486.5, 96897.3, 155442.0, 140203.5, 324448.12, 130053.0, 230769.78, 135564.0, 146081.35, 249456.34, 134619.5, 309574.91, 190404.5, 66156.27, 67718.66, 139308.8, 186649.47, 176600.0, 274208.79, 314697.19, 145879.8, 154203.5, 118355.25, 89088.5, 161510.5, 165418.0, 141649.3333333333, 124905.58, 137776.5, 301904.75, 260662.41, 246454.31, 118712.94, 128954.33, 174001.5, 116658.76, 99016.2, 373513.11, 133720.0, 172262.0, 176702.0, 195295.0, 424982.86, 124744.0, 163490.0, 92786.86, 207205.3, 152054.82, 220823.12, 315874.95, 208445.0, 220706.5, 85964.5, 232701.6, 250377.8, 117536.5, 186070.0, 143122.5, 131051.07, 92720.0, 127614.98, 123749.0, 134278.05, 112197.0, 199464.0, 160580.0, 237111.0, 129651.45, 169964.32, 266229.98, 174854.9, 163029.83, 103080.33, 119433.58, 107190.0, 118163.37, 150866.0, 162521.74, 207807.0, 180349.02, 218939.0, 103403.5, 84411.0, 123148.29, 205481.0, 176134.0, 123070.64533333335, 197044.0, 166165.0, 255329.73, 97768.0, 113114.0, 117771.66, 202683.5, 144064.0, 176177.0, 385312.58, 218714.0, 233093.0, 176165.0, 139976.25, 153676.8, 339451.75, 168637.85, 165612.1, 98223.5, 138269.0, 165411.69, 177251.0, 78201.22, 131605.05, 91294.5, 153065.5, 149824.21, 218576.78, 238270.0, 148239.5, 219071.08, 176113.32, 171509.5, 147964.5, 192656.29, 237259.52, 219564.58, 110015.66, 262986.72, 155741.14, 204164.37, 136893.0, 133208.75, 108357.0, 224341.25, 141066.5, 115367.0, 126906.6, 355059.85, 191033.0, 215672.54, 130094.5, 76975.0, 108814.0, 280065.41, 246325.78, 306767.71, 162810.27, 388358.21, 223631.7, 100624.0, 149941.5, 118945.75, 192262.59, 339968.42, 193857.0, 230531.15, 132947.14, 193719.0, 228757.4, 159188.5, 184381.0, 238634.0, 223271.95, 188620.7, 469305.63, 106518.0, 176649.55, 191750.0, 118203.5, 201177.8, 122049.0, 444745.24, 173519.0, 133642.82, 157348.18, 275598.04, 288968.77, 176067.84, 192241.0, 135375.4, 126641.0, 151932.0, 312166.07, 251543.0, 117802.87, 285748.11, 145821.5, 168468.37, 115457.0, 150705.81666666665, 114459.29, 179415.0, 142163.05, 138496.5, 267966.9, 147252.0, 91659.0, 184612.58, 238097.64, 150465.0, 156131.75, 137736.5, 214188.56, 107526.32, 282490.84, 169784.64, 206331.74, 221842.7, 178983.0, 105892.0, 390236.73, 117018.25, 294388.26, 103389.0, 128626.0, 196604.6, 141501.25, 404889.69, 95640.0, 125021.58, 217513.0, 92245.0, 184665.44, 190291.9, 296484.94, 120604.34, 266398.78, 107900.0, 93242.91, 119761.75, 220632.6, 231908.5, 138554.74, 137383.0, 187111.0, 266139.64, 89286.0, 256147.76, 179327.5, 157056.39, 142898.0, 230326.0, 205403.0, 230203.49, 221756.3, 96936.0, 174202.0, 304084.95, 147164.5, 129559.0, 79185.97, 177573.4, 185991.5, 174207.03, 115521.81, 150319.5, 262036.65, 205802.0, 280775.12, 145480.0, 123756.0, 186406.5, 211491.4, 129887.0, 385384.65, 197914.7, 231803.7, 190779.68, 218629.49, 240160.44, 190817.0, 167532.72, 164352.0, 96507.5, 123329.5, 147285.11, 235512.62, 139246.34, 138580.84, 225389.58, 167071.5, 142689.5, 146964.0, 229919.4, 173834.0, 151665.1, 155288.84, 271031.88, 211397.94, 145406.6, 348999.14, 318568.35, 244492.63, 95374.5, 95889.5, 362679.41, 171414.65, 130889.0, 125686.0, 322988.1, 174732.0, 184461.5, 257445.55, 264192.99, 280925.54, 186950.8, 314253.62, 346675.2, 292048.84, 128046.75, 254262.17, 86896.93, 307679.4, 147156.5, 194666.0, 80545.5, 127521.05, 137407.0, 285295.7, 201440.63, 187214.0, 204552.5, 366640.96, 216751.4, 205517.75, 150949.0, 207024.7, 89523.38, 89258.59, 277662.08, 94569.43, 139545.5, 143094.5, 165489.5, 160764.4, 446524.56, 301929.88, 202886.68, 89875.11, 108362.0, 143996.5, 174585.0, 171241.0, 140652.0, 134484.75, 270050.4, 150030.2, 142619.34, 198080.75, 109734.0, 187650.0, 144781.5, 158377.0, 162651.87, 140271.5, 159631.15, 174060.0, 148832.32, 127006.0, 125548.0, 216826.1, 71294.86, 143118.0, 318170.23, 375070.38, 181548.0, 132235.0, 188439.32, 213280.3, 78825.0, 248618.32, 192501.25, 86322.76, 134898.5, 194976.1, 416128.17, 120112.5, 213632.78, 101002.0, 97686.0, 105340.0, 132425.75, 131162.0, 170125.0, 79504.61, 224797.42, 223106.1, 169494.6375, 101969.0, 260189.7, 171228.0, 164463.56, 122294.05, 167404.48, 276556.77, 320568.72, 90635.75, 136188.86, 225543.84, 115391.5, 236145.98, 188409.42, 148496.32, 240786.08, 115476.0, 140785.0, 207903.15, 221437.61, 113508.8, 317711.51, 142818.0, 132627.79, 272277.86, 110041.38, 194166.19, 172906.7, 90244.0, 87375.47, 126049.5, 177282.0, 82586.0, 202710.5, 115020.0, 115574.0, 82307.26, 115576.0, 520389.06, 124163.0, 157908.82, 184276.52, 213414.75, 140769.5, 195651.68, 202960.6, 125110.32, 115212.0, 111211.5, 254249.5, 210556.7, 199286.3, 174193.1, 166630.27, 103901.0, 233956.0, 157498.0, 114454.83, 243704.53, 147916.33, 93726.99, 182576.18, 126018.5, 181437.59, 165019.0, 154857.84, 249688.28, 193965.0, 215514.22, 185674.0, 143900.5, 410870.62, 262520.22, 134889.5, 205008.0, 388280.63, 308112.08, 100077.23, 326492.73, 360146.73, 168111.5, 164616.0, 131883.0, 143772.5, 146739.8, 174611.0, 164786.53, 86814.0, 115444.5, 138687.5, 169593.2, 153523.0, 93717.0, 56079.5, 385130.96, 170139.0, 125688.83, 119478.0, 117309.0, 219688.15, 139979.0, 246646.8, 141710.0, 131771.64, 212647.15, 204427.98, 155097.57, 126767.0, 160841.75, 200990.3725, 128310.33, 135411.81, 91630.04, 395520.53, 167698.32, 274294.62, 201461.77, 242994.97, 104011.11, 151768.0, 158191.0, 380833.37, 307573.46, 180242.6, 130535.5, 444762.52, 85655.0, 246607.16, 186461.3, 128995.0, 102378.0, 47771.69, 175075.96, 119082.68, 192245.5, 114825.5, 151409.0, 261809.47, 326640.54, 258652.04, 223416.0, 128684.0, 178183.7, 243038.63, 200699.0, 130945.0, 123521.0, 253858.7, 140473.5, 115989.0, 255447.74, 111966.84, 274075.69, 109800.4, 140436.62, 112090.21, 177884.0, 214343.0, 134623.59, 164362.0, 105449.0, 181529.0, 265053.0, 141061.82, 316201.14, 210061.1, 310670.96, 141002.9, 142551.25, 117414.32, 210411.56, 171478.1, 123518.0, 118339.0, 143451.5, 158857.87, 156243.0, 131902.34, 179629.2, 316864.83, 117782.0, 312388.57, 134742.0, 377688.19, 125305.0, 136502.0, 158342.0, 90509.0, 187511.0, 440746.63, 134490.8333333333, 141520.3333333333, 111881.5, 318707.41, 107475.32, 197899.7025, 210425.8, 161551.5, 261789.27, 134174.0, 222485.53, 150849.62, 218993.9, 197231.0, 151589.0, 201111.0, 312550.0, 121041.5, 316520.86, 147314.5, 261866.21, 134077.5, 78268.0, 142896.0, 182742.9, 110262.02, 303977.47, 301055.43, 69853.11, 231065.74, 136022.0, 171859.2, 164059.0, 149287.6, 134020.0, 154462.0, 163926.0, 163525.0, 129944.87, 217638.34, 111388.2, 137405.0, 145056.0, 229612.65, 62721.8, 109482.0, 90357.0, 268993.78, 268294.09, 231641.3, 334201.0, 156118.0, 352463.42, 139518.0, 105356.5, 150742.75, 163816.0, 82688.0, 199714.35, 121724.25, 191711.5, 131054.5, 343517.42, 89379.0, 143694.25, 151619.0, 113208.0, 162034.0, 192370.87, 379506.1, 126261.5, 140374.45, 418750.26, 235707.14, 154048.0, 196502.8, 167131.59, 125659.71, 174282.9, 107752.28, 165621.5, 247607.3, 143265.0, 151695.32, 100777.0, 111247.0, 360854.68, 133069.0, 137995.0, 151698.40666666668, 179125.7, 277030.05, 217584.29, 215947.9, 219705.75, 147922.28, 336727.31, 193465.1475, 144937.85, 707223.25, 314444.77, 118188.45, 146632.45, 169556.74, 95322.0, 123723.3, 129828.81, 192180.15, 314465.8, 138594.8, 345543.39, 149211.56, 212183.7, 67651.23, 290743.38, 236010.38, 173572.6, 111561.36, 71835.0, 103155.89, 191180.8, 122045.5, 146869.0, 159312.0, 166274.32, 160293.0, 329624.0, 129969.0, 270794.61, 143494.9, 120177.0, 128040.0, 322409.05, 119345.5, 214021.0, 191118.7, 135875.4, 104906.79, 241706.0, 183302.86, 228016.4, 129662.15, 111779.06, 171839.5, 91133.09, 240344.48, 161971.36, 193069.0, 135906.17, 139387.5, 177251.0, 172062.0, 198738.6, 299815.44, 235655.0, 271752.61, 248542.87, 106240.22, 96599.5, 162879.8, 210232.0, 278377.26, 147369.25, 172990.85, 216364.2, 154681.32, 176456.28, 294640.12, 126874.0, 123789.46, 200702.52, 329004.52, 254420.47, 258355.93, 192993.0, 167334.74, 220938.52, 490490.5, 135737.8333333333, 110707.71, 118778.0, 121783.0, 354295.39, 162108.0, 225677.56, 139988.83, 158356.7, 140269.5, 175081.96, 178478.85, 187883.5, 162010.87, 128924.34, 159212.4, 145088.0, 233444.0, 111354.34, 194897.35, 160593.905, 148478.0, 251223.3, 225839.42, 200298.95, 171263.5, 136932.0, 111956.66, 497184.8, 174345.74, 195776.5, 117553.25, 180332.8, 523885.35, 123038.0, 225787.32, 132815.0, 208801.5, 151198.5, 121214.59, 170978.5, 147230.4, 67229.53, 154676.0, 113653.75, 215021.0, 133027.0, 274597.78, 152170.5, 222999.38, 184573.0, 92848.51, 212994.0, 133495.34, 231183.76, 390393.49, 111352.0, 188925.4, 176956.53, 149193.73, 153088.0, 144896.89, 227276.0, 162835.05, 138881.5, 135453.25, 151576.0, 96585.0, 139675.5, 122767.0, 137501.34, 159997.845, 159935.25, 139220.15, 142317.0, 176943.5, 204971.65, 128540.49, 221679.0, 190644.7, 136525.33333333334, 212332.22, 172806.0, 161298.0, 171831.0, 130643.75, 146858.0, 173607.32, 156101.0, 239534.0, 171183.0, 136021.0, 147735.0, 136453.59, 231963.91, 144868.5, 249858.97, 127302.8, 171507.85, 234922.9, 101393.0, 197365.0, 114033.93, 134336.0, 83894.5, 300768.72, 133103.59, 340837.98, 150778.5, 133329.5, 155268.0, 200912.8, 174779.0, 156700.0, 110580.5, 313509.5, 148948.1, 129854.5, 267780.34, 155534.5, 119265.0, 168658.5, 146893.8, 159786.09, 123070.64533333335, 154709.0, 105327.5, 141745.01, 561451.03, 134012.83, 108876.02, 147576.0, 180646.0, 242177.9, 124500.16, 131171.5, 252717.26, 239129.0, 132131.0, 171673.4, 156882.06, 143037.3, 92905.93, 146997.79, 167111.17, 79978.0, 48534.19, 132230.77, 252162.86, 179822.92, 201282.5, 158426.53, 173224.1425, 196297.32, 200675.5, 166483.37, 293230.34, 185750.0, 241537.03, 216024.43, 216123.65, 117867.5, 332060.53, 197436.6, 234702.0, 89359.0, 187429.0, 246509.2, 244804.6, 220668.0, 154279.1, 222759.8, 152449.0, 141304.735, 139758.0, 147150.0, 142523.0, 268724.02, 202431.8, 187782.0, 129208.5, 122259.0, 130332.0, 174939.0, 128186.5, 149056.05, 131078.65, 132620.0, 188566.4, 162678.4, 114397.0, 251241.0, 162982.9, 249724.43, 212352.9, 179780.8, 147526.0, 134265.5, 53753.0, 134544.0, 118754.0, 169694.4, 110319.58, 190968.835, 178832.75, 165359.32, 87407.0, 197052.56, 113462.62, 139411.0, 163942.43, 324332.78, 168107.16, 256358.7, 132950.08800000002, 128206.0, 126841.0, 388307.96, 195947.7, 192856.0, 336783.22, 181470.35, 184852.0, 176572.0, 336398.41, 120604.0, 134289.0, 175534.5, 93284.77, 198516.0, 81951.01, 89898.5, 234764.84, 136675.1, 186207.81, 143850.5, 175978.0, 85984.0, 235460.31, 112878.93333333333, 128374.08, 108659.72, 155070.0, 94757.68, 125451.55, 216367.0, 206374.22, 194472.78, 163535.8, 205937.61, 165682.59, 193593.19, 102129.5, 192112.51, 291772.25, 117813.0, 164088.11, 288869.98, 114945.83, 116455.0, 149838.53, 209619.0, 306457.5, 241672.87, 115359.5, 82628.11, 309078.85, 271406.86, 99400.5, 83873.0, 169553.5, 171627.0, 196821.84, 255525.08, 286681.24, 145937.54, 504101.2, 146494.0, 132643.19, 88324.93, 179933.75, 192907.38, 172918.0, 149103.0, 254324.8, 176570.0, 190006.115, 238125.0, 336410.9, 206729.5, 207093.2, 104864.0, 105117.59, 126282.5, 155584.25, 310140.34, 177551.4, 168848.0, 186412.5, 131355.5, 134138.5, 156233.68, 103740.34, 158563.18, 198332.105, 195182.87, 166578.9, 137501.85, 150705.81666666665, 127322.0, 150325.3, 131904.0, 192512.0, 155684.5, 181880.0, 146266.5, 85785.0, 253357.6, 135375.4, 199978.06, 92859.11, 160583.84, 148303.5, 145415.0, 126647.5, 180164.7725, 119820.04, 161243.8, 123271.0, 166025.0, 61513.21, 121397.0, 135731.5, 154614.0, 115443.5, 317825.38, 184736.0, 258307.94, 179466.0, 288865.41, 185508.0, 197840.0, 124557.66, 131574.0, 116843.0, 313294.34, 181504.7, 131900.0, 134496.11, 132195.5, 114186.5, 213848.37, 106903.92, 108465.8, 165003.32, 116212.47, 185157.77, 249164.73, 216654.25, 139702.9, 164860.19, 98960.0, 130143.0, 238373.05, 174654.0, 102880.0, 120307.5, 93978.93, 199965.5, 144745.0, 138030.6, 189624.28, 418527.19, 91628.25, 79116.61, 145025.84, 186392.06, 161518.68, 111342.0, 147161.0, 123071.5, 161114.82, 211639.0, 123809.0, 198542.0, 214800.84, 168404.87, 218629.49, 232629.27, 189957.0, 150217.0, 217472.0, 131309.0, 123145.5, 190736.5, 227755.12, 248612.83, 179842.5, 224363.5, 585325.3, 158796.0, 161146.0, 167532.72, 205794.0, 220516.0, 295373.91, 122383.0, 115663.0, 137911.87, 93028.0, 233661.88, 355725.24, 703396.66, 132273.5, 189238.5, 112276.83, 115064.25, 269358.91, 193675.0, 191452.5, 175894.38, 176086.5, 128170.71, 165146.0, 149808.25, 173989.65, 221285.51, 148008.74, 174607.65, 145276.22, 114887.78, 197485.62, 118003.0, 215934.38, 149475.12, 296465.35, 115043.0, 208960.28, 142436.0, 287427.36, 201714.5, 175493.9, 105068.0, 132816.5, 133349.0, 122271.16, 126383.28966666666, 230092.95, 74352.61, 93178.04, 115644.74, 129216.0, 147081.5, 163682.53, 186584.05, 141553.0, 225385.5, 144884.5, 362695.57, 136210.0, 194634.0, 137324.5, 101439.3, 142528.0, 129508.68, 146410.24, 174742.75, 206605.0, 149455.3, 260089.55, 219024.25, 247867.95, 167115.0, 442678.06, 208736.0, 180758.4, 182757.05, 161650.0, 148248.5, 121221.33, 251154.48, 178379.06, 127304.0, 280136.17, 176995.4, 128868.5, 299375.86, 98104.21, 179542.3, 148732.5, 180938.0, 131746.5, 155978.0, 172104.0, 181362.46, 179776.3, 133525.0, 372033.8, 356557.83, 145722.0, 247276.64, 181065.5, 131005.65, 165988.0, 135767.0, 139801.0, 159019.25, 188289.0, 239879.22, 86858.18, 222302.5, 179001.0, 149215.5, 141692.0, 167291.0, 132275.07, 150490.0, 179142.05, 270670.0, 277343.67, 169032.37, 118550.0, 118916.53, 167324.0, 118223.0, 135283.3, 151636.0, 144740.02, 234275.24, 150359.25, 226142.0, 170942.93, 296194.79, 230978.72, 135471.65, 317122.96, 200990.3725, 142789.5, 140343.71, 177012.0, 315461.61, 201411.06, 300629.94, 320341.88, 119778.5, 203834.24, 285277.19, 204983.105, 262279.8, 111970.24, 157659.0, 73354.72, 197786.6, 81393.93, 201408.71, 65527.0, 86434.0, 130543.5, 261966.24, 177034.0, 231749.96, 132086.0, 105870.0, 121068.54, 127830.0, 167497.0, 133067.83, 58067.11, 203712.78, 126553.0, 120470.5, 155268.5, 238579.0, 177181.0, 160810.0, 113161.0, 247198.0, 268468.82, 225443.86, 140051.0, 201646.99, 171136.0, 131824.7, 395721.32, 239676.6, 176737.28, 111388.91, 147170.0, 177297.05, 338397.76, 180314.23, 253066.86, 116071.01, 160194.05, 145989.44, 211104.0, 202236.6, 131813.0, 141520.3333333333, 232617.82, 110810.62, 169777.5, 255119.72, 460194.0, 247377.2, 238155.63, 89427.5, 129694.0, 89530.0, 159106.27, 72248.0, 229637.0, 162840.07, 130223.25, 108403.0, 122555.59, 256087.81, 151254.5, 369071.05, 132057.0, 236656.0, 129877.69, 121853.15, 154182.81, 234347.02, 288896.52, 161893.34, 134984.61, 142347.21, 140605.5, 116980.76, 184654.82, 190179.925, 269816.98, 111708.0, 286250.86, 133295.0, 111979.5, 115632.71, 203356.0, 225618.0, 137576.0, 89516.59, 260894.37, 198671.5, 193814.06, 128353.91, 331507.5, 126213.25, 236147.37, 172021.5, 131067.0, 137765.6666666667, 261314.41, 144739.0, 146104.5, 266366.0, 140462.34, 118802.83, 182660.9, 194180.15, 145242.7, 81573.5, 183956.87, 157002.0, 177757.0, 118790.0, 388657.54, 150531.21, 189632.32, 184938.3, 144937.85, 317602.01, 110023.86, 181502.1, 123551.76, 151227.25, 248740.0, 104919.43, 92703.5, 145371.62, 279806.93, 144560.0, 103784.55, 185239.9, 175547.0, 211968.0, 265011.5, 132920.55, 150154.5]\n"
     ]
    }
   ],
   "source": [
    "import requests\n",
    "\n",
    "#server_url = \"http://localhost:5000/predict\"\n",
    "server_url = 'https://sirpoopy.pythonanywhere.com/web_bee_predict_sale_price'\n",
    "\n",
    "response = requests.post(server_url, files={\"file\": train_df.to_json()})\n",
    "\n",
    "if response.status_code == 200:\n",
    "    print(response.text)\n",
    "else:\n",
    "    print(f\"Error uploading CSV file: {response.status_code} - {response.text}\")"
   ],
   "metadata": {
    "collapsed": false,
    "ExecuteTime": {
     "end_time": "2024-05-05T14:51:30.074908200Z",
     "start_time": "2024-05-05T14:51:28.616978200Z"
    }
   }
  },
  {
   "cell_type": "code",
   "execution_count": null,
   "outputs": [],
   "source": [],
   "metadata": {
    "collapsed": false
   }
  },
  {
   "cell_type": "code",
   "execution_count": 74,
   "outputs": [
    {
     "data": {
      "text/plain": "1460"
     },
     "execution_count": 74,
     "metadata": {},
     "output_type": "execute_result"
    }
   ],
   "source": [
    "len(eval(response.text))"
   ],
   "metadata": {
    "collapsed": false,
    "ExecuteTime": {
     "end_time": "2024-05-05T15:15:51.355950Z",
     "start_time": "2024-05-05T15:15:51.339101500Z"
    }
   }
  }
 ],
 "metadata": {
  "kernelspec": {
   "display_name": "Python 3",
   "language": "python",
   "name": "python3"
  },
  "language_info": {
   "codemirror_mode": {
    "name": "ipython",
    "version": 2
   },
   "file_extension": ".py",
   "mimetype": "text/x-python",
   "name": "python",
   "nbconvert_exporter": "python",
   "pygments_lexer": "ipython2",
   "version": "2.7.6"
  }
 },
 "nbformat": 4,
 "nbformat_minor": 0
}
