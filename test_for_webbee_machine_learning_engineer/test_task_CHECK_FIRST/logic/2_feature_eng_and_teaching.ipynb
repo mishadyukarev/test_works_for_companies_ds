{
 "cells": [
  {
   "cell_type": "code",
   "execution_count": 1,
   "metadata": {
    "collapsed": true,
    "ExecuteTime": {
     "end_time": "2024-05-05T15:40:32.343046100Z",
     "start_time": "2024-05-05T15:40:31.576851300Z"
    }
   },
   "outputs": [],
   "source": [
    "import pandas as pd\n",
    "\n",
    "from sklearn.impute import SimpleImputer\n",
    "\n",
    "from sklearn.pipeline import make_pipeline\n",
    "from sklearn.preprocessing import StandardScaler, OneHotEncoder\n",
    "from sklearn.compose import make_column_transformer\n",
    "from sklearn.model_selection import cross_val_score\n",
    "\n",
    "from sklearn.tree import DecisionTreeRegressor\n",
    "from sklearn.svm import SVR\n",
    "from sklearn.ensemble import RandomForestRegressor\n",
    "from sklearn.linear_model import LinearRegression\n",
    "from sklearn.neural_network import MLPRegressor"
   ]
  },
  {
   "cell_type": "code",
   "execution_count": 2,
   "outputs": [
    {
     "data": {
      "text/plain": "     LandContour  GarageYrBlt  FullBath  1stFlrSF  BsmtFinSF1  TotRmsAbvGrd  \\\n0            Lvl       2003.0         2       856         706             8   \n1            Lvl       1976.0         2      1262         978             6   \n2            Lvl       2001.0         2       920         486             6   \n3            Lvl       1998.0         1       961         216             7   \n4            Lvl       2000.0         2      1145         655             9   \n...          ...          ...       ...       ...         ...           ...   \n1455         Lvl       1999.0         2       953           0             7   \n1456         Lvl       1978.0         2      2073         790             7   \n1457         Lvl       1941.0         2      1188         275             9   \n1458         Lvl       1950.0         1      1078          49             5   \n1459         Lvl       1965.0         1      1256         830             6   \n\n     ExterQual  OpenPorchSF Heating Condition2  ...  GarageCars  KitchenQual  \\\n0           Gd           61    GasA       Norm  ...           2           Gd   \n1           TA            0    GasA       Norm  ...           2           TA   \n2           Gd           42    GasA       Norm  ...           2           Gd   \n3           TA           35    GasA       Norm  ...           3           Gd   \n4           Gd           84    GasA       Norm  ...           3           Gd   \n...        ...          ...     ...        ...  ...         ...          ...   \n1455        TA           40    GasA       Norm  ...           2           TA   \n1456        TA            0    GasA       Norm  ...           2           TA   \n1457        Ex           60    GasA       Norm  ...           1           Gd   \n1458        TA            0    GasA       Norm  ...           1           Gd   \n1459        Gd           68    GasA       Norm  ...           1           TA   \n\n     KitchenAbvGr  GrLivArea  2ndFlrSF  CentralAir BsmtQual TotalBsmtSF  \\\n0               1       1710       854           Y       Gd         856   \n1               1       1262         0           Y       Gd        1262   \n2               1       1786       866           Y       Gd         920   \n3               1       1717       756           Y       TA         756   \n4               1       2198      1053           Y       Gd        1145   \n...           ...        ...       ...         ...      ...         ...   \n1455            1       1647       694           Y       Gd         953   \n1456            1       2073         0           Y       Gd        1542   \n1457            1       2340      1152           Y       TA        1152   \n1458            1       1078         0           Y       TA        1078   \n1459            1       1256         0           Y       TA        1256   \n\n      Fireplaces  SalePrice  \n0              0     208500  \n1              1     181500  \n2              1     223500  \n3              1     140000  \n4              1     250000  \n...          ...        ...  \n1455           1     175000  \n1456           2     210000  \n1457           2     266500  \n1458           0     142125  \n1459           0     147500  \n\n[1460 rows x 21 columns]",
      "text/html": "<div>\n<style scoped>\n    .dataframe tbody tr th:only-of-type {\n        vertical-align: middle;\n    }\n\n    .dataframe tbody tr th {\n        vertical-align: top;\n    }\n\n    .dataframe thead th {\n        text-align: right;\n    }\n</style>\n<table border=\"1\" class=\"dataframe\">\n  <thead>\n    <tr style=\"text-align: right;\">\n      <th></th>\n      <th>LandContour</th>\n      <th>GarageYrBlt</th>\n      <th>FullBath</th>\n      <th>1stFlrSF</th>\n      <th>BsmtFinSF1</th>\n      <th>TotRmsAbvGrd</th>\n      <th>ExterQual</th>\n      <th>OpenPorchSF</th>\n      <th>Heating</th>\n      <th>Condition2</th>\n      <th>...</th>\n      <th>GarageCars</th>\n      <th>KitchenQual</th>\n      <th>KitchenAbvGr</th>\n      <th>GrLivArea</th>\n      <th>2ndFlrSF</th>\n      <th>CentralAir</th>\n      <th>BsmtQual</th>\n      <th>TotalBsmtSF</th>\n      <th>Fireplaces</th>\n      <th>SalePrice</th>\n    </tr>\n  </thead>\n  <tbody>\n    <tr>\n      <th>0</th>\n      <td>Lvl</td>\n      <td>2003.0</td>\n      <td>2</td>\n      <td>856</td>\n      <td>706</td>\n      <td>8</td>\n      <td>Gd</td>\n      <td>61</td>\n      <td>GasA</td>\n      <td>Norm</td>\n      <td>...</td>\n      <td>2</td>\n      <td>Gd</td>\n      <td>1</td>\n      <td>1710</td>\n      <td>854</td>\n      <td>Y</td>\n      <td>Gd</td>\n      <td>856</td>\n      <td>0</td>\n      <td>208500</td>\n    </tr>\n    <tr>\n      <th>1</th>\n      <td>Lvl</td>\n      <td>1976.0</td>\n      <td>2</td>\n      <td>1262</td>\n      <td>978</td>\n      <td>6</td>\n      <td>TA</td>\n      <td>0</td>\n      <td>GasA</td>\n      <td>Norm</td>\n      <td>...</td>\n      <td>2</td>\n      <td>TA</td>\n      <td>1</td>\n      <td>1262</td>\n      <td>0</td>\n      <td>Y</td>\n      <td>Gd</td>\n      <td>1262</td>\n      <td>1</td>\n      <td>181500</td>\n    </tr>\n    <tr>\n      <th>2</th>\n      <td>Lvl</td>\n      <td>2001.0</td>\n      <td>2</td>\n      <td>920</td>\n      <td>486</td>\n      <td>6</td>\n      <td>Gd</td>\n      <td>42</td>\n      <td>GasA</td>\n      <td>Norm</td>\n      <td>...</td>\n      <td>2</td>\n      <td>Gd</td>\n      <td>1</td>\n      <td>1786</td>\n      <td>866</td>\n      <td>Y</td>\n      <td>Gd</td>\n      <td>920</td>\n      <td>1</td>\n      <td>223500</td>\n    </tr>\n    <tr>\n      <th>3</th>\n      <td>Lvl</td>\n      <td>1998.0</td>\n      <td>1</td>\n      <td>961</td>\n      <td>216</td>\n      <td>7</td>\n      <td>TA</td>\n      <td>35</td>\n      <td>GasA</td>\n      <td>Norm</td>\n      <td>...</td>\n      <td>3</td>\n      <td>Gd</td>\n      <td>1</td>\n      <td>1717</td>\n      <td>756</td>\n      <td>Y</td>\n      <td>TA</td>\n      <td>756</td>\n      <td>1</td>\n      <td>140000</td>\n    </tr>\n    <tr>\n      <th>4</th>\n      <td>Lvl</td>\n      <td>2000.0</td>\n      <td>2</td>\n      <td>1145</td>\n      <td>655</td>\n      <td>9</td>\n      <td>Gd</td>\n      <td>84</td>\n      <td>GasA</td>\n      <td>Norm</td>\n      <td>...</td>\n      <td>3</td>\n      <td>Gd</td>\n      <td>1</td>\n      <td>2198</td>\n      <td>1053</td>\n      <td>Y</td>\n      <td>Gd</td>\n      <td>1145</td>\n      <td>1</td>\n      <td>250000</td>\n    </tr>\n    <tr>\n      <th>...</th>\n      <td>...</td>\n      <td>...</td>\n      <td>...</td>\n      <td>...</td>\n      <td>...</td>\n      <td>...</td>\n      <td>...</td>\n      <td>...</td>\n      <td>...</td>\n      <td>...</td>\n      <td>...</td>\n      <td>...</td>\n      <td>...</td>\n      <td>...</td>\n      <td>...</td>\n      <td>...</td>\n      <td>...</td>\n      <td>...</td>\n      <td>...</td>\n      <td>...</td>\n      <td>...</td>\n    </tr>\n    <tr>\n      <th>1455</th>\n      <td>Lvl</td>\n      <td>1999.0</td>\n      <td>2</td>\n      <td>953</td>\n      <td>0</td>\n      <td>7</td>\n      <td>TA</td>\n      <td>40</td>\n      <td>GasA</td>\n      <td>Norm</td>\n      <td>...</td>\n      <td>2</td>\n      <td>TA</td>\n      <td>1</td>\n      <td>1647</td>\n      <td>694</td>\n      <td>Y</td>\n      <td>Gd</td>\n      <td>953</td>\n      <td>1</td>\n      <td>175000</td>\n    </tr>\n    <tr>\n      <th>1456</th>\n      <td>Lvl</td>\n      <td>1978.0</td>\n      <td>2</td>\n      <td>2073</td>\n      <td>790</td>\n      <td>7</td>\n      <td>TA</td>\n      <td>0</td>\n      <td>GasA</td>\n      <td>Norm</td>\n      <td>...</td>\n      <td>2</td>\n      <td>TA</td>\n      <td>1</td>\n      <td>2073</td>\n      <td>0</td>\n      <td>Y</td>\n      <td>Gd</td>\n      <td>1542</td>\n      <td>2</td>\n      <td>210000</td>\n    </tr>\n    <tr>\n      <th>1457</th>\n      <td>Lvl</td>\n      <td>1941.0</td>\n      <td>2</td>\n      <td>1188</td>\n      <td>275</td>\n      <td>9</td>\n      <td>Ex</td>\n      <td>60</td>\n      <td>GasA</td>\n      <td>Norm</td>\n      <td>...</td>\n      <td>1</td>\n      <td>Gd</td>\n      <td>1</td>\n      <td>2340</td>\n      <td>1152</td>\n      <td>Y</td>\n      <td>TA</td>\n      <td>1152</td>\n      <td>2</td>\n      <td>266500</td>\n    </tr>\n    <tr>\n      <th>1458</th>\n      <td>Lvl</td>\n      <td>1950.0</td>\n      <td>1</td>\n      <td>1078</td>\n      <td>49</td>\n      <td>5</td>\n      <td>TA</td>\n      <td>0</td>\n      <td>GasA</td>\n      <td>Norm</td>\n      <td>...</td>\n      <td>1</td>\n      <td>Gd</td>\n      <td>1</td>\n      <td>1078</td>\n      <td>0</td>\n      <td>Y</td>\n      <td>TA</td>\n      <td>1078</td>\n      <td>0</td>\n      <td>142125</td>\n    </tr>\n    <tr>\n      <th>1459</th>\n      <td>Lvl</td>\n      <td>1965.0</td>\n      <td>1</td>\n      <td>1256</td>\n      <td>830</td>\n      <td>6</td>\n      <td>Gd</td>\n      <td>68</td>\n      <td>GasA</td>\n      <td>Norm</td>\n      <td>...</td>\n      <td>1</td>\n      <td>TA</td>\n      <td>1</td>\n      <td>1256</td>\n      <td>0</td>\n      <td>Y</td>\n      <td>TA</td>\n      <td>1256</td>\n      <td>0</td>\n      <td>147500</td>\n    </tr>\n  </tbody>\n</table>\n<p>1460 rows × 21 columns</p>\n</div>"
     },
     "execution_count": 2,
     "metadata": {},
     "output_type": "execute_result"
    }
   ],
   "source": [
    "train_df = pd.read_csv('../data/train.csv')\n",
    "train_df"
   ],
   "metadata": {
    "collapsed": false,
    "ExecuteTime": {
     "end_time": "2024-05-05T15:40:32.387819200Z",
     "start_time": "2024-05-05T15:40:32.345800100Z"
    }
   }
  },
  {
   "cell_type": "code",
   "execution_count": 3,
   "outputs": [],
   "source": [
    "X_train = train_df.drop(columns='SalePrice')\n",
    "y_train = train_df['SalePrice']"
   ],
   "metadata": {
    "collapsed": false,
    "ExecuteTime": {
     "end_time": "2024-05-05T15:40:32.422610Z",
     "start_time": "2024-05-05T15:40:32.379003200Z"
    }
   }
  },
  {
   "cell_type": "code",
   "execution_count": 4,
   "outputs": [
    {
     "data": {
      "text/plain": "ColumnTransformer(transformers=[('pipeline-1',\n                                 Pipeline(steps=[('simpleimputer',\n                                                  SimpleImputer()),\n                                                 ('standardscaler',\n                                                  StandardScaler())]),\n                                 ['GarageYrBlt', '1stFlrSF', 'BsmtFinSF1',\n                                  'TotRmsAbvGrd', 'OpenPorchSF', 'GarageCars',\n                                  'GrLivArea', '2ndFlrSF', 'TotalBsmtSF']),\n                                ('pipeline-2',\n                                 Pipeline(steps=[('simpleimputer',\n                                                  SimpleImputer(strategy='most_frequent')),\n                                                 ('onehotencoder',\n                                                  OneHotEncoder(handle_unknown='ignore',\n                                                                sparse_output=False))]),\n                                 ['LandContour', 'FullBath', 'ExterQual',\n                                  'Heating', 'Condition2', 'OverallQual',\n                                  'KitchenQual', 'KitchenAbvGr', 'CentralAir',\n                                  'BsmtQual', 'Fireplaces'])])",
      "text/html": "<style>#sk-container-id-1 {color: black;background-color: white;}#sk-container-id-1 pre{padding: 0;}#sk-container-id-1 div.sk-toggleable {background-color: white;}#sk-container-id-1 label.sk-toggleable__label {cursor: pointer;display: block;width: 100%;margin-bottom: 0;padding: 0.3em;box-sizing: border-box;text-align: center;}#sk-container-id-1 label.sk-toggleable__label-arrow:before {content: \"▸\";float: left;margin-right: 0.25em;color: #696969;}#sk-container-id-1 label.sk-toggleable__label-arrow:hover:before {color: black;}#sk-container-id-1 div.sk-estimator:hover label.sk-toggleable__label-arrow:before {color: black;}#sk-container-id-1 div.sk-toggleable__content {max-height: 0;max-width: 0;overflow: hidden;text-align: left;background-color: #f0f8ff;}#sk-container-id-1 div.sk-toggleable__content pre {margin: 0.2em;color: black;border-radius: 0.25em;background-color: #f0f8ff;}#sk-container-id-1 input.sk-toggleable__control:checked~div.sk-toggleable__content {max-height: 200px;max-width: 100%;overflow: auto;}#sk-container-id-1 input.sk-toggleable__control:checked~label.sk-toggleable__label-arrow:before {content: \"▾\";}#sk-container-id-1 div.sk-estimator input.sk-toggleable__control:checked~label.sk-toggleable__label {background-color: #d4ebff;}#sk-container-id-1 div.sk-label input.sk-toggleable__control:checked~label.sk-toggleable__label {background-color: #d4ebff;}#sk-container-id-1 input.sk-hidden--visually {border: 0;clip: rect(1px 1px 1px 1px);clip: rect(1px, 1px, 1px, 1px);height: 1px;margin: -1px;overflow: hidden;padding: 0;position: absolute;width: 1px;}#sk-container-id-1 div.sk-estimator {font-family: monospace;background-color: #f0f8ff;border: 1px dotted black;border-radius: 0.25em;box-sizing: border-box;margin-bottom: 0.5em;}#sk-container-id-1 div.sk-estimator:hover {background-color: #d4ebff;}#sk-container-id-1 div.sk-parallel-item::after {content: \"\";width: 100%;border-bottom: 1px solid gray;flex-grow: 1;}#sk-container-id-1 div.sk-label:hover label.sk-toggleable__label {background-color: #d4ebff;}#sk-container-id-1 div.sk-serial::before {content: \"\";position: absolute;border-left: 1px solid gray;box-sizing: border-box;top: 0;bottom: 0;left: 50%;z-index: 0;}#sk-container-id-1 div.sk-serial {display: flex;flex-direction: column;align-items: center;background-color: white;padding-right: 0.2em;padding-left: 0.2em;position: relative;}#sk-container-id-1 div.sk-item {position: relative;z-index: 1;}#sk-container-id-1 div.sk-parallel {display: flex;align-items: stretch;justify-content: center;background-color: white;position: relative;}#sk-container-id-1 div.sk-item::before, #sk-container-id-1 div.sk-parallel-item::before {content: \"\";position: absolute;border-left: 1px solid gray;box-sizing: border-box;top: 0;bottom: 0;left: 50%;z-index: -1;}#sk-container-id-1 div.sk-parallel-item {display: flex;flex-direction: column;z-index: 1;position: relative;background-color: white;}#sk-container-id-1 div.sk-parallel-item:first-child::after {align-self: flex-end;width: 50%;}#sk-container-id-1 div.sk-parallel-item:last-child::after {align-self: flex-start;width: 50%;}#sk-container-id-1 div.sk-parallel-item:only-child::after {width: 0;}#sk-container-id-1 div.sk-dashed-wrapped {border: 1px dashed gray;margin: 0 0.4em 0.5em 0.4em;box-sizing: border-box;padding-bottom: 0.4em;background-color: white;}#sk-container-id-1 div.sk-label label {font-family: monospace;font-weight: bold;display: inline-block;line-height: 1.2em;}#sk-container-id-1 div.sk-label-container {text-align: center;}#sk-container-id-1 div.sk-container {/* jupyter's `normalize.less` sets `[hidden] { display: none; }` but bootstrap.min.css set `[hidden] { display: none !important; }` so we also need the `!important` here to be able to override the default hidden behavior on the sphinx rendered scikit-learn.org. See: https://github.com/scikit-learn/scikit-learn/issues/21755 */display: inline-block !important;position: relative;}#sk-container-id-1 div.sk-text-repr-fallback {display: none;}</style><div id=\"sk-container-id-1\" class=\"sk-top-container\"><div class=\"sk-text-repr-fallback\"><pre>ColumnTransformer(transformers=[(&#x27;pipeline-1&#x27;,\n                                 Pipeline(steps=[(&#x27;simpleimputer&#x27;,\n                                                  SimpleImputer()),\n                                                 (&#x27;standardscaler&#x27;,\n                                                  StandardScaler())]),\n                                 [&#x27;GarageYrBlt&#x27;, &#x27;1stFlrSF&#x27;, &#x27;BsmtFinSF1&#x27;,\n                                  &#x27;TotRmsAbvGrd&#x27;, &#x27;OpenPorchSF&#x27;, &#x27;GarageCars&#x27;,\n                                  &#x27;GrLivArea&#x27;, &#x27;2ndFlrSF&#x27;, &#x27;TotalBsmtSF&#x27;]),\n                                (&#x27;pipeline-2&#x27;,\n                                 Pipeline(steps=[(&#x27;simpleimputer&#x27;,\n                                                  SimpleImputer(strategy=&#x27;most_frequent&#x27;)),\n                                                 (&#x27;onehotencoder&#x27;,\n                                                  OneHotEncoder(handle_unknown=&#x27;ignore&#x27;,\n                                                                sparse_output=False))]),\n                                 [&#x27;LandContour&#x27;, &#x27;FullBath&#x27;, &#x27;ExterQual&#x27;,\n                                  &#x27;Heating&#x27;, &#x27;Condition2&#x27;, &#x27;OverallQual&#x27;,\n                                  &#x27;KitchenQual&#x27;, &#x27;KitchenAbvGr&#x27;, &#x27;CentralAir&#x27;,\n                                  &#x27;BsmtQual&#x27;, &#x27;Fireplaces&#x27;])])</pre><b>In a Jupyter environment, please rerun this cell to show the HTML representation or trust the notebook. <br />On GitHub, the HTML representation is unable to render, please try loading this page with nbviewer.org.</b></div><div class=\"sk-container\" hidden><div class=\"sk-item sk-dashed-wrapped\"><div class=\"sk-label-container\"><div class=\"sk-label sk-toggleable\"><input class=\"sk-toggleable__control sk-hidden--visually\" id=\"sk-estimator-id-1\" type=\"checkbox\" ><label for=\"sk-estimator-id-1\" class=\"sk-toggleable__label sk-toggleable__label-arrow\">ColumnTransformer</label><div class=\"sk-toggleable__content\"><pre>ColumnTransformer(transformers=[(&#x27;pipeline-1&#x27;,\n                                 Pipeline(steps=[(&#x27;simpleimputer&#x27;,\n                                                  SimpleImputer()),\n                                                 (&#x27;standardscaler&#x27;,\n                                                  StandardScaler())]),\n                                 [&#x27;GarageYrBlt&#x27;, &#x27;1stFlrSF&#x27;, &#x27;BsmtFinSF1&#x27;,\n                                  &#x27;TotRmsAbvGrd&#x27;, &#x27;OpenPorchSF&#x27;, &#x27;GarageCars&#x27;,\n                                  &#x27;GrLivArea&#x27;, &#x27;2ndFlrSF&#x27;, &#x27;TotalBsmtSF&#x27;]),\n                                (&#x27;pipeline-2&#x27;,\n                                 Pipeline(steps=[(&#x27;simpleimputer&#x27;,\n                                                  SimpleImputer(strategy=&#x27;most_frequent&#x27;)),\n                                                 (&#x27;onehotencoder&#x27;,\n                                                  OneHotEncoder(handle_unknown=&#x27;ignore&#x27;,\n                                                                sparse_output=False))]),\n                                 [&#x27;LandContour&#x27;, &#x27;FullBath&#x27;, &#x27;ExterQual&#x27;,\n                                  &#x27;Heating&#x27;, &#x27;Condition2&#x27;, &#x27;OverallQual&#x27;,\n                                  &#x27;KitchenQual&#x27;, &#x27;KitchenAbvGr&#x27;, &#x27;CentralAir&#x27;,\n                                  &#x27;BsmtQual&#x27;, &#x27;Fireplaces&#x27;])])</pre></div></div></div><div class=\"sk-parallel\"><div class=\"sk-parallel-item\"><div class=\"sk-item\"><div class=\"sk-label-container\"><div class=\"sk-label sk-toggleable\"><input class=\"sk-toggleable__control sk-hidden--visually\" id=\"sk-estimator-id-2\" type=\"checkbox\" ><label for=\"sk-estimator-id-2\" class=\"sk-toggleable__label sk-toggleable__label-arrow\">pipeline-1</label><div class=\"sk-toggleable__content\"><pre>[&#x27;GarageYrBlt&#x27;, &#x27;1stFlrSF&#x27;, &#x27;BsmtFinSF1&#x27;, &#x27;TotRmsAbvGrd&#x27;, &#x27;OpenPorchSF&#x27;, &#x27;GarageCars&#x27;, &#x27;GrLivArea&#x27;, &#x27;2ndFlrSF&#x27;, &#x27;TotalBsmtSF&#x27;]</pre></div></div></div><div class=\"sk-serial\"><div class=\"sk-item\"><div class=\"sk-serial\"><div class=\"sk-item\"><div class=\"sk-estimator sk-toggleable\"><input class=\"sk-toggleable__control sk-hidden--visually\" id=\"sk-estimator-id-3\" type=\"checkbox\" ><label for=\"sk-estimator-id-3\" class=\"sk-toggleable__label sk-toggleable__label-arrow\">SimpleImputer</label><div class=\"sk-toggleable__content\"><pre>SimpleImputer()</pre></div></div></div><div class=\"sk-item\"><div class=\"sk-estimator sk-toggleable\"><input class=\"sk-toggleable__control sk-hidden--visually\" id=\"sk-estimator-id-4\" type=\"checkbox\" ><label for=\"sk-estimator-id-4\" class=\"sk-toggleable__label sk-toggleable__label-arrow\">StandardScaler</label><div class=\"sk-toggleable__content\"><pre>StandardScaler()</pre></div></div></div></div></div></div></div></div><div class=\"sk-parallel-item\"><div class=\"sk-item\"><div class=\"sk-label-container\"><div class=\"sk-label sk-toggleable\"><input class=\"sk-toggleable__control sk-hidden--visually\" id=\"sk-estimator-id-5\" type=\"checkbox\" ><label for=\"sk-estimator-id-5\" class=\"sk-toggleable__label sk-toggleable__label-arrow\">pipeline-2</label><div class=\"sk-toggleable__content\"><pre>[&#x27;LandContour&#x27;, &#x27;FullBath&#x27;, &#x27;ExterQual&#x27;, &#x27;Heating&#x27;, &#x27;Condition2&#x27;, &#x27;OverallQual&#x27;, &#x27;KitchenQual&#x27;, &#x27;KitchenAbvGr&#x27;, &#x27;CentralAir&#x27;, &#x27;BsmtQual&#x27;, &#x27;Fireplaces&#x27;]</pre></div></div></div><div class=\"sk-serial\"><div class=\"sk-item\"><div class=\"sk-serial\"><div class=\"sk-item\"><div class=\"sk-estimator sk-toggleable\"><input class=\"sk-toggleable__control sk-hidden--visually\" id=\"sk-estimator-id-6\" type=\"checkbox\" ><label for=\"sk-estimator-id-6\" class=\"sk-toggleable__label sk-toggleable__label-arrow\">SimpleImputer</label><div class=\"sk-toggleable__content\"><pre>SimpleImputer(strategy=&#x27;most_frequent&#x27;)</pre></div></div></div><div class=\"sk-item\"><div class=\"sk-estimator sk-toggleable\"><input class=\"sk-toggleable__control sk-hidden--visually\" id=\"sk-estimator-id-7\" type=\"checkbox\" ><label for=\"sk-estimator-id-7\" class=\"sk-toggleable__label sk-toggleable__label-arrow\">OneHotEncoder</label><div class=\"sk-toggleable__content\"><pre>OneHotEncoder(handle_unknown=&#x27;ignore&#x27;, sparse_output=False)</pre></div></div></div></div></div></div></div></div></div></div></div></div>"
     },
     "execution_count": 4,
     "metadata": {},
     "output_type": "execute_result"
    }
   ],
   "source": [
    "num_cols = ['GarageYrBlt', '1stFlrSF', 'BsmtFinSF1',\n",
    "            'TotRmsAbvGrd', 'OpenPorchSF', 'GarageCars', 'GrLivArea', '2ndFlrSF', 'TotalBsmtSF']\n",
    "\n",
    "cat_cols = [col for col in X_train.columns if not col in num_cols]\n",
    "\n",
    "\n",
    "numeric_transformer = make_pipeline(\n",
    "    SimpleImputer(strategy='mean'),\n",
    "    StandardScaler()\n",
    ")\n",
    "\n",
    "categorical_transformer = make_pipeline(\n",
    "    SimpleImputer(strategy='most_frequent'),\n",
    "    OneHotEncoder(sparse_output=False, handle_unknown='ignore')\n",
    ")\n",
    "\n",
    "\n",
    "preprocessor = make_column_transformer(\n",
    "    (numeric_transformer, num_cols),\n",
    "    (categorical_transformer, cat_cols)\n",
    ")\n",
    "\n",
    "preprocessor"
   ],
   "metadata": {
    "collapsed": false,
    "ExecuteTime": {
     "end_time": "2024-05-05T15:40:32.477638Z",
     "start_time": "2024-05-05T15:40:32.395714100Z"
    }
   }
  },
  {
   "cell_type": "code",
   "execution_count": 5,
   "outputs": [
    {
     "name": "stderr",
     "output_type": "stream",
     "text": [
      "C:\\Users\\misha\\anaconda3\\lib\\site-packages\\sklearn\\neural_network\\_multilayer_perceptron.py:686: ConvergenceWarning: Stochastic Optimizer: Maximum iterations (200) reached and the optimization hasn't converged yet.\n",
      "  warnings.warn(\n",
      "C:\\Users\\misha\\anaconda3\\lib\\site-packages\\sklearn\\neural_network\\_multilayer_perceptron.py:686: ConvergenceWarning: Stochastic Optimizer: Maximum iterations (200) reached and the optimization hasn't converged yet.\n",
      "  warnings.warn(\n",
      "C:\\Users\\misha\\anaconda3\\lib\\site-packages\\sklearn\\neural_network\\_multilayer_perceptron.py:686: ConvergenceWarning: Stochastic Optimizer: Maximum iterations (200) reached and the optimization hasn't converged yet.\n",
      "  warnings.warn(\n"
     ]
    },
    {
     "data": {
      "text/plain": "                     model  r2_score    r2_std  \\\n0  RandomForestRegressor()  0.851785  0.026543   \n1       LinearRegression()  0.798240  0.049901   \n2                    SVR() -0.053913  0.023465   \n3  DecisionTreeRegressor()  0.727042  0.009188   \n4           MLPRegressor() -5.089873  0.284398   \n\n                                            pipeline  \n0  (ColumnTransformer(transformers=[('pipeline-1'...  \n1  (ColumnTransformer(transformers=[('pipeline-1'...  \n2  (ColumnTransformer(transformers=[('pipeline-1'...  \n3  (ColumnTransformer(transformers=[('pipeline-1'...  \n4  (ColumnTransformer(transformers=[('pipeline-1'...  ",
      "text/html": "<div>\n<style scoped>\n    .dataframe tbody tr th:only-of-type {\n        vertical-align: middle;\n    }\n\n    .dataframe tbody tr th {\n        vertical-align: top;\n    }\n\n    .dataframe thead th {\n        text-align: right;\n    }\n</style>\n<table border=\"1\" class=\"dataframe\">\n  <thead>\n    <tr style=\"text-align: right;\">\n      <th></th>\n      <th>model</th>\n      <th>r2_score</th>\n      <th>r2_std</th>\n      <th>pipeline</th>\n    </tr>\n  </thead>\n  <tbody>\n    <tr>\n      <th>0</th>\n      <td>RandomForestRegressor()</td>\n      <td>0.851785</td>\n      <td>0.026543</td>\n      <td>(ColumnTransformer(transformers=[('pipeline-1'...</td>\n    </tr>\n    <tr>\n      <th>1</th>\n      <td>LinearRegression()</td>\n      <td>0.798240</td>\n      <td>0.049901</td>\n      <td>(ColumnTransformer(transformers=[('pipeline-1'...</td>\n    </tr>\n    <tr>\n      <th>2</th>\n      <td>SVR()</td>\n      <td>-0.053913</td>\n      <td>0.023465</td>\n      <td>(ColumnTransformer(transformers=[('pipeline-1'...</td>\n    </tr>\n    <tr>\n      <th>3</th>\n      <td>DecisionTreeRegressor()</td>\n      <td>0.727042</td>\n      <td>0.009188</td>\n      <td>(ColumnTransformer(transformers=[('pipeline-1'...</td>\n    </tr>\n    <tr>\n      <th>4</th>\n      <td>MLPRegressor()</td>\n      <td>-5.089873</td>\n      <td>0.284398</td>\n      <td>(ColumnTransformer(transformers=[('pipeline-1'...</td>\n    </tr>\n  </tbody>\n</table>\n</div>"
     },
     "execution_count": 5,
     "metadata": {},
     "output_type": "execute_result"
    }
   ],
   "source": [
    "# Choosing the best model\n",
    "models = [RandomForestRegressor(), LinearRegression(), SVR(), DecisionTreeRegressor(), MLPRegressor()]\n",
    "metrics = []\n",
    "std_l = []\n",
    "pipeline_l = []\n",
    "\n",
    "for model in models:\n",
    "    regressor_pipeline = make_pipeline(\n",
    "        preprocessor,\n",
    "        model\n",
    "    )\n",
    "\n",
    "    cv = cross_val_score(regressor_pipeline, X_train, y_train, cv=3)\n",
    "\n",
    "    metrics.append(cv.mean())\n",
    "    std_l.append(cv.std())\n",
    "    pipeline_l.append(regressor_pipeline)\n",
    "\n",
    "metrics_df = pd.DataFrame({'model': models, 'r2_score': metrics, 'r2_std': std_l, 'pipeline': pipeline_l})\n",
    "metrics_df"
   ],
   "metadata": {
    "collapsed": false,
    "ExecuteTime": {
     "end_time": "2024-05-05T15:40:37.322520400Z",
     "start_time": "2024-05-05T15:40:32.429591Z"
    }
   }
  },
  {
   "cell_type": "code",
   "execution_count": 6,
   "outputs": [
    {
     "data": {
      "text/plain": "Pipeline(steps=[('columntransformer',\n                 ColumnTransformer(transformers=[('pipeline-1',\n                                                  Pipeline(steps=[('simpleimputer',\n                                                                   SimpleImputer()),\n                                                                  ('standardscaler',\n                                                                   StandardScaler())]),\n                                                  ['GarageYrBlt', '1stFlrSF',\n                                                   'BsmtFinSF1', 'TotRmsAbvGrd',\n                                                   'OpenPorchSF', 'GarageCars',\n                                                   'GrLivArea', '2ndFlrSF',\n                                                   'TotalBsmtSF']),\n                                                 ('pipeline-2',\n                                                  Pipeline(steps=[('simpleimputer',\n                                                                   SimpleImputer(strategy='most_frequent')),\n                                                                  ('onehotencoder',\n                                                                   OneHotEncoder(handle_unknown='ignore',\n                                                                                 sparse_output=False))]),\n                                                  ['LandContour', 'FullBath',\n                                                   'ExterQual', 'Heating',\n                                                   'Condition2', 'OverallQual',\n                                                   'KitchenQual',\n                                                   'KitchenAbvGr', 'CentralAir',\n                                                   'BsmtQual',\n                                                   'Fireplaces'])])),\n                ('randomforestregressor', RandomForestRegressor())])",
      "text/html": "<style>#sk-container-id-2 {color: black;background-color: white;}#sk-container-id-2 pre{padding: 0;}#sk-container-id-2 div.sk-toggleable {background-color: white;}#sk-container-id-2 label.sk-toggleable__label {cursor: pointer;display: block;width: 100%;margin-bottom: 0;padding: 0.3em;box-sizing: border-box;text-align: center;}#sk-container-id-2 label.sk-toggleable__label-arrow:before {content: \"▸\";float: left;margin-right: 0.25em;color: #696969;}#sk-container-id-2 label.sk-toggleable__label-arrow:hover:before {color: black;}#sk-container-id-2 div.sk-estimator:hover label.sk-toggleable__label-arrow:before {color: black;}#sk-container-id-2 div.sk-toggleable__content {max-height: 0;max-width: 0;overflow: hidden;text-align: left;background-color: #f0f8ff;}#sk-container-id-2 div.sk-toggleable__content pre {margin: 0.2em;color: black;border-radius: 0.25em;background-color: #f0f8ff;}#sk-container-id-2 input.sk-toggleable__control:checked~div.sk-toggleable__content {max-height: 200px;max-width: 100%;overflow: auto;}#sk-container-id-2 input.sk-toggleable__control:checked~label.sk-toggleable__label-arrow:before {content: \"▾\";}#sk-container-id-2 div.sk-estimator input.sk-toggleable__control:checked~label.sk-toggleable__label {background-color: #d4ebff;}#sk-container-id-2 div.sk-label input.sk-toggleable__control:checked~label.sk-toggleable__label {background-color: #d4ebff;}#sk-container-id-2 input.sk-hidden--visually {border: 0;clip: rect(1px 1px 1px 1px);clip: rect(1px, 1px, 1px, 1px);height: 1px;margin: -1px;overflow: hidden;padding: 0;position: absolute;width: 1px;}#sk-container-id-2 div.sk-estimator {font-family: monospace;background-color: #f0f8ff;border: 1px dotted black;border-radius: 0.25em;box-sizing: border-box;margin-bottom: 0.5em;}#sk-container-id-2 div.sk-estimator:hover {background-color: #d4ebff;}#sk-container-id-2 div.sk-parallel-item::after {content: \"\";width: 100%;border-bottom: 1px solid gray;flex-grow: 1;}#sk-container-id-2 div.sk-label:hover label.sk-toggleable__label {background-color: #d4ebff;}#sk-container-id-2 div.sk-serial::before {content: \"\";position: absolute;border-left: 1px solid gray;box-sizing: border-box;top: 0;bottom: 0;left: 50%;z-index: 0;}#sk-container-id-2 div.sk-serial {display: flex;flex-direction: column;align-items: center;background-color: white;padding-right: 0.2em;padding-left: 0.2em;position: relative;}#sk-container-id-2 div.sk-item {position: relative;z-index: 1;}#sk-container-id-2 div.sk-parallel {display: flex;align-items: stretch;justify-content: center;background-color: white;position: relative;}#sk-container-id-2 div.sk-item::before, #sk-container-id-2 div.sk-parallel-item::before {content: \"\";position: absolute;border-left: 1px solid gray;box-sizing: border-box;top: 0;bottom: 0;left: 50%;z-index: -1;}#sk-container-id-2 div.sk-parallel-item {display: flex;flex-direction: column;z-index: 1;position: relative;background-color: white;}#sk-container-id-2 div.sk-parallel-item:first-child::after {align-self: flex-end;width: 50%;}#sk-container-id-2 div.sk-parallel-item:last-child::after {align-self: flex-start;width: 50%;}#sk-container-id-2 div.sk-parallel-item:only-child::after {width: 0;}#sk-container-id-2 div.sk-dashed-wrapped {border: 1px dashed gray;margin: 0 0.4em 0.5em 0.4em;box-sizing: border-box;padding-bottom: 0.4em;background-color: white;}#sk-container-id-2 div.sk-label label {font-family: monospace;font-weight: bold;display: inline-block;line-height: 1.2em;}#sk-container-id-2 div.sk-label-container {text-align: center;}#sk-container-id-2 div.sk-container {/* jupyter's `normalize.less` sets `[hidden] { display: none; }` but bootstrap.min.css set `[hidden] { display: none !important; }` so we also need the `!important` here to be able to override the default hidden behavior on the sphinx rendered scikit-learn.org. See: https://github.com/scikit-learn/scikit-learn/issues/21755 */display: inline-block !important;position: relative;}#sk-container-id-2 div.sk-text-repr-fallback {display: none;}</style><div id=\"sk-container-id-2\" class=\"sk-top-container\"><div class=\"sk-text-repr-fallback\"><pre>Pipeline(steps=[(&#x27;columntransformer&#x27;,\n                 ColumnTransformer(transformers=[(&#x27;pipeline-1&#x27;,\n                                                  Pipeline(steps=[(&#x27;simpleimputer&#x27;,\n                                                                   SimpleImputer()),\n                                                                  (&#x27;standardscaler&#x27;,\n                                                                   StandardScaler())]),\n                                                  [&#x27;GarageYrBlt&#x27;, &#x27;1stFlrSF&#x27;,\n                                                   &#x27;BsmtFinSF1&#x27;, &#x27;TotRmsAbvGrd&#x27;,\n                                                   &#x27;OpenPorchSF&#x27;, &#x27;GarageCars&#x27;,\n                                                   &#x27;GrLivArea&#x27;, &#x27;2ndFlrSF&#x27;,\n                                                   &#x27;TotalBsmtSF&#x27;]),\n                                                 (&#x27;pipeline-2&#x27;,\n                                                  Pipeline(steps=[(&#x27;simpleimputer&#x27;,\n                                                                   SimpleImputer(strategy=&#x27;most_frequent&#x27;)),\n                                                                  (&#x27;onehotencoder&#x27;,\n                                                                   OneHotEncoder(handle_unknown=&#x27;ignore&#x27;,\n                                                                                 sparse_output=False))]),\n                                                  [&#x27;LandContour&#x27;, &#x27;FullBath&#x27;,\n                                                   &#x27;ExterQual&#x27;, &#x27;Heating&#x27;,\n                                                   &#x27;Condition2&#x27;, &#x27;OverallQual&#x27;,\n                                                   &#x27;KitchenQual&#x27;,\n                                                   &#x27;KitchenAbvGr&#x27;, &#x27;CentralAir&#x27;,\n                                                   &#x27;BsmtQual&#x27;,\n                                                   &#x27;Fireplaces&#x27;])])),\n                (&#x27;randomforestregressor&#x27;, RandomForestRegressor())])</pre><b>In a Jupyter environment, please rerun this cell to show the HTML representation or trust the notebook. <br />On GitHub, the HTML representation is unable to render, please try loading this page with nbviewer.org.</b></div><div class=\"sk-container\" hidden><div class=\"sk-item sk-dashed-wrapped\"><div class=\"sk-label-container\"><div class=\"sk-label sk-toggleable\"><input class=\"sk-toggleable__control sk-hidden--visually\" id=\"sk-estimator-id-8\" type=\"checkbox\" ><label for=\"sk-estimator-id-8\" class=\"sk-toggleable__label sk-toggleable__label-arrow\">Pipeline</label><div class=\"sk-toggleable__content\"><pre>Pipeline(steps=[(&#x27;columntransformer&#x27;,\n                 ColumnTransformer(transformers=[(&#x27;pipeline-1&#x27;,\n                                                  Pipeline(steps=[(&#x27;simpleimputer&#x27;,\n                                                                   SimpleImputer()),\n                                                                  (&#x27;standardscaler&#x27;,\n                                                                   StandardScaler())]),\n                                                  [&#x27;GarageYrBlt&#x27;, &#x27;1stFlrSF&#x27;,\n                                                   &#x27;BsmtFinSF1&#x27;, &#x27;TotRmsAbvGrd&#x27;,\n                                                   &#x27;OpenPorchSF&#x27;, &#x27;GarageCars&#x27;,\n                                                   &#x27;GrLivArea&#x27;, &#x27;2ndFlrSF&#x27;,\n                                                   &#x27;TotalBsmtSF&#x27;]),\n                                                 (&#x27;pipeline-2&#x27;,\n                                                  Pipeline(steps=[(&#x27;simpleimputer&#x27;,\n                                                                   SimpleImputer(strategy=&#x27;most_frequent&#x27;)),\n                                                                  (&#x27;onehotencoder&#x27;,\n                                                                   OneHotEncoder(handle_unknown=&#x27;ignore&#x27;,\n                                                                                 sparse_output=False))]),\n                                                  [&#x27;LandContour&#x27;, &#x27;FullBath&#x27;,\n                                                   &#x27;ExterQual&#x27;, &#x27;Heating&#x27;,\n                                                   &#x27;Condition2&#x27;, &#x27;OverallQual&#x27;,\n                                                   &#x27;KitchenQual&#x27;,\n                                                   &#x27;KitchenAbvGr&#x27;, &#x27;CentralAir&#x27;,\n                                                   &#x27;BsmtQual&#x27;,\n                                                   &#x27;Fireplaces&#x27;])])),\n                (&#x27;randomforestregressor&#x27;, RandomForestRegressor())])</pre></div></div></div><div class=\"sk-serial\"><div class=\"sk-item sk-dashed-wrapped\"><div class=\"sk-label-container\"><div class=\"sk-label sk-toggleable\"><input class=\"sk-toggleable__control sk-hidden--visually\" id=\"sk-estimator-id-9\" type=\"checkbox\" ><label for=\"sk-estimator-id-9\" class=\"sk-toggleable__label sk-toggleable__label-arrow\">columntransformer: ColumnTransformer</label><div class=\"sk-toggleable__content\"><pre>ColumnTransformer(transformers=[(&#x27;pipeline-1&#x27;,\n                                 Pipeline(steps=[(&#x27;simpleimputer&#x27;,\n                                                  SimpleImputer()),\n                                                 (&#x27;standardscaler&#x27;,\n                                                  StandardScaler())]),\n                                 [&#x27;GarageYrBlt&#x27;, &#x27;1stFlrSF&#x27;, &#x27;BsmtFinSF1&#x27;,\n                                  &#x27;TotRmsAbvGrd&#x27;, &#x27;OpenPorchSF&#x27;, &#x27;GarageCars&#x27;,\n                                  &#x27;GrLivArea&#x27;, &#x27;2ndFlrSF&#x27;, &#x27;TotalBsmtSF&#x27;]),\n                                (&#x27;pipeline-2&#x27;,\n                                 Pipeline(steps=[(&#x27;simpleimputer&#x27;,\n                                                  SimpleImputer(strategy=&#x27;most_frequent&#x27;)),\n                                                 (&#x27;onehotencoder&#x27;,\n                                                  OneHotEncoder(handle_unknown=&#x27;ignore&#x27;,\n                                                                sparse_output=False))]),\n                                 [&#x27;LandContour&#x27;, &#x27;FullBath&#x27;, &#x27;ExterQual&#x27;,\n                                  &#x27;Heating&#x27;, &#x27;Condition2&#x27;, &#x27;OverallQual&#x27;,\n                                  &#x27;KitchenQual&#x27;, &#x27;KitchenAbvGr&#x27;, &#x27;CentralAir&#x27;,\n                                  &#x27;BsmtQual&#x27;, &#x27;Fireplaces&#x27;])])</pre></div></div></div><div class=\"sk-parallel\"><div class=\"sk-parallel-item\"><div class=\"sk-item\"><div class=\"sk-label-container\"><div class=\"sk-label sk-toggleable\"><input class=\"sk-toggleable__control sk-hidden--visually\" id=\"sk-estimator-id-10\" type=\"checkbox\" ><label for=\"sk-estimator-id-10\" class=\"sk-toggleable__label sk-toggleable__label-arrow\">pipeline-1</label><div class=\"sk-toggleable__content\"><pre>[&#x27;GarageYrBlt&#x27;, &#x27;1stFlrSF&#x27;, &#x27;BsmtFinSF1&#x27;, &#x27;TotRmsAbvGrd&#x27;, &#x27;OpenPorchSF&#x27;, &#x27;GarageCars&#x27;, &#x27;GrLivArea&#x27;, &#x27;2ndFlrSF&#x27;, &#x27;TotalBsmtSF&#x27;]</pre></div></div></div><div class=\"sk-serial\"><div class=\"sk-item\"><div class=\"sk-serial\"><div class=\"sk-item\"><div class=\"sk-estimator sk-toggleable\"><input class=\"sk-toggleable__control sk-hidden--visually\" id=\"sk-estimator-id-11\" type=\"checkbox\" ><label for=\"sk-estimator-id-11\" class=\"sk-toggleable__label sk-toggleable__label-arrow\">SimpleImputer</label><div class=\"sk-toggleable__content\"><pre>SimpleImputer()</pre></div></div></div><div class=\"sk-item\"><div class=\"sk-estimator sk-toggleable\"><input class=\"sk-toggleable__control sk-hidden--visually\" id=\"sk-estimator-id-12\" type=\"checkbox\" ><label for=\"sk-estimator-id-12\" class=\"sk-toggleable__label sk-toggleable__label-arrow\">StandardScaler</label><div class=\"sk-toggleable__content\"><pre>StandardScaler()</pre></div></div></div></div></div></div></div></div><div class=\"sk-parallel-item\"><div class=\"sk-item\"><div class=\"sk-label-container\"><div class=\"sk-label sk-toggleable\"><input class=\"sk-toggleable__control sk-hidden--visually\" id=\"sk-estimator-id-13\" type=\"checkbox\" ><label for=\"sk-estimator-id-13\" class=\"sk-toggleable__label sk-toggleable__label-arrow\">pipeline-2</label><div class=\"sk-toggleable__content\"><pre>[&#x27;LandContour&#x27;, &#x27;FullBath&#x27;, &#x27;ExterQual&#x27;, &#x27;Heating&#x27;, &#x27;Condition2&#x27;, &#x27;OverallQual&#x27;, &#x27;KitchenQual&#x27;, &#x27;KitchenAbvGr&#x27;, &#x27;CentralAir&#x27;, &#x27;BsmtQual&#x27;, &#x27;Fireplaces&#x27;]</pre></div></div></div><div class=\"sk-serial\"><div class=\"sk-item\"><div class=\"sk-serial\"><div class=\"sk-item\"><div class=\"sk-estimator sk-toggleable\"><input class=\"sk-toggleable__control sk-hidden--visually\" id=\"sk-estimator-id-14\" type=\"checkbox\" ><label for=\"sk-estimator-id-14\" class=\"sk-toggleable__label sk-toggleable__label-arrow\">SimpleImputer</label><div class=\"sk-toggleable__content\"><pre>SimpleImputer(strategy=&#x27;most_frequent&#x27;)</pre></div></div></div><div class=\"sk-item\"><div class=\"sk-estimator sk-toggleable\"><input class=\"sk-toggleable__control sk-hidden--visually\" id=\"sk-estimator-id-15\" type=\"checkbox\" ><label for=\"sk-estimator-id-15\" class=\"sk-toggleable__label sk-toggleable__label-arrow\">OneHotEncoder</label><div class=\"sk-toggleable__content\"><pre>OneHotEncoder(handle_unknown=&#x27;ignore&#x27;, sparse_output=False)</pre></div></div></div></div></div></div></div></div></div></div><div class=\"sk-item\"><div class=\"sk-estimator sk-toggleable\"><input class=\"sk-toggleable__control sk-hidden--visually\" id=\"sk-estimator-id-16\" type=\"checkbox\" ><label for=\"sk-estimator-id-16\" class=\"sk-toggleable__label sk-toggleable__label-arrow\">RandomForestRegressor</label><div class=\"sk-toggleable__content\"><pre>RandomForestRegressor()</pre></div></div></div></div></div></div></div>"
     },
     "execution_count": 6,
     "metadata": {},
     "output_type": "execute_result"
    }
   ],
   "source": [
    "best_pipeline =  metrics_df.loc[metrics_df['r2_score']== metrics_df['r2_score'].max(), 'pipeline'][0]\n",
    "best_pipeline.fit(X_train, y_train)\n",
    "best_pipeline\n",
    "\n",
    "# We can also make grid search, but it's enough for now"
   ],
   "metadata": {
    "collapsed": false,
    "ExecuteTime": {
     "end_time": "2024-05-05T15:40:38.427623900Z",
     "start_time": "2024-05-05T15:40:37.322520400Z"
    }
   }
  },
  {
   "cell_type": "code",
   "execution_count": 7,
   "outputs": [],
   "source": [
    "import pickle\n",
    "\n",
    "with open('../../server_CHECK_SECOND/best_regressor_pipeline.pkl', 'wb') as f:\n",
    "    pickle.dump(best_pipeline, f)"
   ],
   "metadata": {
    "collapsed": false,
    "ExecuteTime": {
     "end_time": "2024-05-05T15:40:38.463529700Z",
     "start_time": "2024-05-05T15:40:38.427623900Z"
    }
   }
  },
  {
   "cell_type": "code",
   "execution_count": 7,
   "outputs": [],
   "source": [],
   "metadata": {
    "collapsed": false,
    "ExecuteTime": {
     "end_time": "2024-05-05T15:40:38.476935300Z",
     "start_time": "2024-05-05T15:40:38.459528200Z"
    }
   }
  },
  {
   "cell_type": "code",
   "execution_count": 8,
   "outputs": [],
   "source": [
    "# I implemented model in cloud in \"serve_CHECK_SECOND\" folder\n",
    "\n",
    "import requests\n",
    "\n",
    "test_df = pd.read_csv('../data/test.csv')\n",
    "\n",
    "#server_url = \"http://localhost:5000/predict\" # LOCAL\n",
    "server_url = 'https://sirpoopy.pythonanywhere.com/web_bee_predict_sale_price' # CLOUD\n",
    "\n",
    "\n",
    "response = requests.post(server_url, files={\"file\": test_df.to_json()})\n",
    "\n",
    "if response.status_code == 200:\n",
    "    result = pd.DataFrame({'id':test_df.index, 'SalePrice':eval(response.text)})\n",
    "    result.to_csv('../data/result.csv', index=False)\n",
    "else:\n",
    "    raise Exception()"
   ],
   "metadata": {
    "collapsed": false,
    "ExecuteTime": {
     "end_time": "2024-05-05T15:40:40.237312200Z",
     "start_time": "2024-05-05T15:40:38.473899600Z"
    }
   }
  },
  {
   "cell_type": "code",
   "execution_count": 9,
   "outputs": [
    {
     "data": {
      "text/plain": "        id  SalePrice\n0        0  122673.66\n1        1  154773.50\n2        2  180265.40\n3        3  175480.00\n4        4  194945.67\n...    ...        ...\n1454  1454   81858.93\n1455  1455   86099.00\n1456  1456  153753.20\n1457  1457  108280.00\n1458  1458  213504.01\n\n[1459 rows x 2 columns]",
      "text/html": "<div>\n<style scoped>\n    .dataframe tbody tr th:only-of-type {\n        vertical-align: middle;\n    }\n\n    .dataframe tbody tr th {\n        vertical-align: top;\n    }\n\n    .dataframe thead th {\n        text-align: right;\n    }\n</style>\n<table border=\"1\" class=\"dataframe\">\n  <thead>\n    <tr style=\"text-align: right;\">\n      <th></th>\n      <th>id</th>\n      <th>SalePrice</th>\n    </tr>\n  </thead>\n  <tbody>\n    <tr>\n      <th>0</th>\n      <td>0</td>\n      <td>122673.66</td>\n    </tr>\n    <tr>\n      <th>1</th>\n      <td>1</td>\n      <td>154773.50</td>\n    </tr>\n    <tr>\n      <th>2</th>\n      <td>2</td>\n      <td>180265.40</td>\n    </tr>\n    <tr>\n      <th>3</th>\n      <td>3</td>\n      <td>175480.00</td>\n    </tr>\n    <tr>\n      <th>4</th>\n      <td>4</td>\n      <td>194945.67</td>\n    </tr>\n    <tr>\n      <th>...</th>\n      <td>...</td>\n      <td>...</td>\n    </tr>\n    <tr>\n      <th>1454</th>\n      <td>1454</td>\n      <td>81858.93</td>\n    </tr>\n    <tr>\n      <th>1455</th>\n      <td>1455</td>\n      <td>86099.00</td>\n    </tr>\n    <tr>\n      <th>1456</th>\n      <td>1456</td>\n      <td>153753.20</td>\n    </tr>\n    <tr>\n      <th>1457</th>\n      <td>1457</td>\n      <td>108280.00</td>\n    </tr>\n    <tr>\n      <th>1458</th>\n      <td>1458</td>\n      <td>213504.01</td>\n    </tr>\n  </tbody>\n</table>\n<p>1459 rows × 2 columns</p>\n</div>"
     },
     "execution_count": 9,
     "metadata": {},
     "output_type": "execute_result"
    }
   ],
   "source": [
    "pd.read_csv('../data/result.csv')"
   ],
   "metadata": {
    "collapsed": false,
    "ExecuteTime": {
     "end_time": "2024-05-05T15:40:40.274837100Z",
     "start_time": "2024-05-05T15:40:40.243332600Z"
    }
   }
  },
  {
   "cell_type": "code",
   "execution_count": 9,
   "outputs": [],
   "source": [],
   "metadata": {
    "collapsed": false,
    "ExecuteTime": {
     "end_time": "2024-05-05T15:40:40.288910400Z",
     "start_time": "2024-05-05T15:40:40.263806700Z"
    }
   }
  }
 ],
 "metadata": {
  "kernelspec": {
   "display_name": "Python 3",
   "language": "python",
   "name": "python3"
  },
  "language_info": {
   "codemirror_mode": {
    "name": "ipython",
    "version": 2
   },
   "file_extension": ".py",
   "mimetype": "text/x-python",
   "name": "python",
   "nbconvert_exporter": "python",
   "pygments_lexer": "ipython2",
   "version": "2.7.6"
  }
 },
 "nbformat": 4,
 "nbformat_minor": 0
}
