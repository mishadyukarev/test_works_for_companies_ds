{
 "cells": [
  {
   "cell_type": "markdown",
   "source": [
    "What most affects the number of likes: the time of day of publication, the day of the week or the interval between posts."
   ],
   "metadata": {
    "collapsed": false
   }
  },
  {
   "cell_type": "code",
   "execution_count": 1,
   "outputs": [],
   "source": [
    "import pandas as pd\n",
    "from vk_api import VkApi"
   ],
   "metadata": {
    "collapsed": false,
    "ExecuteTime": {
     "end_time": "2024-03-14T06:46:59.517177600Z",
     "start_time": "2024-03-14T06:46:59.444261900Z"
    }
   }
  },
  {
   "cell_type": "code",
   "execution_count": 2,
   "outputs": [
    {
     "data": {
      "text/plain": "{'text': '道德經'}"
     },
     "execution_count": 2,
     "metadata": {},
     "output_type": "execute_result"
    }
   ],
   "source": [
    "with open('my_token.txt', 'r') as file:\n",
    "    my_token = file.read()\n",
    "\n",
    "session = VkApi(token=my_token)\n",
    "session_vk = session.get_api()\n",
    "\n",
    "session.method('status.get', {'user_id': 1})"
   ],
   "metadata": {
    "collapsed": false,
    "ExecuteTime": {
     "end_time": "2024-03-14T06:46:59.741598800Z",
     "start_time": "2024-03-14T06:46:59.518179800Z"
    }
   }
  },
  {
   "cell_type": "code",
   "execution_count": 3,
   "outputs": [
    {
     "data": {
      "text/plain": "     id_post        date   likes\n0    2442097  1525805964  232906\n1    2431591  1525352753   25157\n2    2422169  1525187997  106659\n3    2418560  1525168885   46889\n4    2412029  1525107823   27832\n..       ...         ...     ...\n97     45660  1437395197   26279\n98     45659  1437394873    9918\n99     45657  1437340309   45941\n100    45656  1437082071    5525\n101    45655  1436961440   11403\n\n[102 rows x 3 columns]",
      "text/html": "<div>\n<style scoped>\n    .dataframe tbody tr th:only-of-type {\n        vertical-align: middle;\n    }\n\n    .dataframe tbody tr th {\n        vertical-align: top;\n    }\n\n    .dataframe thead th {\n        text-align: right;\n    }\n</style>\n<table border=\"1\" class=\"dataframe\">\n  <thead>\n    <tr style=\"text-align: right;\">\n      <th></th>\n      <th>id_post</th>\n      <th>date</th>\n      <th>likes</th>\n    </tr>\n  </thead>\n  <tbody>\n    <tr>\n      <th>0</th>\n      <td>2442097</td>\n      <td>1525805964</td>\n      <td>232906</td>\n    </tr>\n    <tr>\n      <th>1</th>\n      <td>2431591</td>\n      <td>1525352753</td>\n      <td>25157</td>\n    </tr>\n    <tr>\n      <th>2</th>\n      <td>2422169</td>\n      <td>1525187997</td>\n      <td>106659</td>\n    </tr>\n    <tr>\n      <th>3</th>\n      <td>2418560</td>\n      <td>1525168885</td>\n      <td>46889</td>\n    </tr>\n    <tr>\n      <th>4</th>\n      <td>2412029</td>\n      <td>1525107823</td>\n      <td>27832</td>\n    </tr>\n    <tr>\n      <th>...</th>\n      <td>...</td>\n      <td>...</td>\n      <td>...</td>\n    </tr>\n    <tr>\n      <th>97</th>\n      <td>45660</td>\n      <td>1437395197</td>\n      <td>26279</td>\n    </tr>\n    <tr>\n      <th>98</th>\n      <td>45659</td>\n      <td>1437394873</td>\n      <td>9918</td>\n    </tr>\n    <tr>\n      <th>99</th>\n      <td>45657</td>\n      <td>1437340309</td>\n      <td>45941</td>\n    </tr>\n    <tr>\n      <th>100</th>\n      <td>45656</td>\n      <td>1437082071</td>\n      <td>5525</td>\n    </tr>\n    <tr>\n      <th>101</th>\n      <td>45655</td>\n      <td>1436961440</td>\n      <td>11403</td>\n    </tr>\n  </tbody>\n</table>\n<p>102 rows × 3 columns</p>\n</div>"
     },
     "execution_count": 3,
     "metadata": {},
     "output_type": "execute_result"
    }
   ],
   "source": [
    "result_dict = {'id_post': [], 'date': [], 'likes': []}\n",
    "\n",
    "\n",
    "for offset in range(3):\n",
    "    for item in session_vk.wall.get(owner_id=1, count=200, offset=offset)['items']:\n",
    "\n",
    "        result_dict['id_post'].append(item['id'])\n",
    "        result_dict['date'].append(item['date'])\n",
    "        result_dict['likes'].append(item['likes']['count'])\n",
    "\n",
    "\n",
    "\n",
    "result_df = pd.DataFrame(result_dict)\n",
    "result_df = result_df.drop_duplicates().reset_index(drop=True)\n",
    "result_df"
   ],
   "metadata": {
    "collapsed": false,
    "ExecuteTime": {
     "end_time": "2024-03-14T06:47:03.974320800Z",
     "start_time": "2024-03-14T06:46:59.745589300Z"
    }
   }
  },
  {
   "cell_type": "code",
   "execution_count": 4,
   "outputs": [],
   "source": [
    "result_df.to_csv('posts.csv', index=False)"
   ],
   "metadata": {
    "collapsed": false,
    "ExecuteTime": {
     "end_time": "2024-03-14T06:47:03.989405500Z",
     "start_time": "2024-03-14T06:47:03.975320200Z"
    }
   }
  }
 ],
 "metadata": {
  "kernelspec": {
   "display_name": "Python 3",
   "language": "python",
   "name": "python3"
  },
  "language_info": {
   "codemirror_mode": {
    "name": "ipython",
    "version": 2
   },
   "file_extension": ".py",
   "mimetype": "text/x-python",
   "name": "python",
   "nbconvert_exporter": "python",
   "pygments_lexer": "ipython2",
   "version": "2.7.6"
  }
 },
 "nbformat": 4,
 "nbformat_minor": 0
}
