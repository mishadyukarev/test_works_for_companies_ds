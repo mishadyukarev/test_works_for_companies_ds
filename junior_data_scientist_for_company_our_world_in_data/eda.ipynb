{
 "cells": [
  {
   "cell_type": "code",
   "execution_count": 5,
   "metadata": {
    "collapsed": true,
    "ExecuteTime": {
     "end_time": "2024-03-16T06:21:28.178291100Z",
     "start_time": "2024-03-16T06:21:28.117250600Z"
    }
   },
   "outputs": [],
   "source": [
    "import pandas as pd"
   ]
  },
  {
   "cell_type": "code",
   "execution_count": 6,
   "outputs": [
    {
     "data": {
      "text/plain": "   Age group (years)  Death rate United States 2019  Death rate Uganda 2019\n0                0-4                           0.04                    0.40\n1                5-9                           0.02                    0.17\n2              10-14                           0.02                    0.07\n3              15-19                           0.06                    0.23\n4              20-24                           0.11                    0.38\n5              25-29                           0.11                    0.40\n6              30-34                           0.29                    0.75\n7              35-39                           0.56                    1.11\n8              40-44                           1.42                    2.04\n9              45-49                           4.00                    5.51\n10             50-54                          14.13                   13.26\n11             55-59                          37.22                   33.25\n12             60-64                          66.48                   69.62\n13             65-69                         108.66                  120.78\n14             70-74                         213.10                  229.88\n15             75-79                         333.06                  341.06\n16             80-84                         491.10                  529.31\n17               85+                         894.45                  710.40",
      "text/html": "<div>\n<style scoped>\n    .dataframe tbody tr th:only-of-type {\n        vertical-align: middle;\n    }\n\n    .dataframe tbody tr th {\n        vertical-align: top;\n    }\n\n    .dataframe thead th {\n        text-align: right;\n    }\n</style>\n<table border=\"1\" class=\"dataframe\">\n  <thead>\n    <tr style=\"text-align: right;\">\n      <th></th>\n      <th>Age group (years)</th>\n      <th>Death rate United States 2019</th>\n      <th>Death rate Uganda 2019</th>\n    </tr>\n  </thead>\n  <tbody>\n    <tr>\n      <th>0</th>\n      <td>0-4</td>\n      <td>0.04</td>\n      <td>0.40</td>\n    </tr>\n    <tr>\n      <th>1</th>\n      <td>5-9</td>\n      <td>0.02</td>\n      <td>0.17</td>\n    </tr>\n    <tr>\n      <th>2</th>\n      <td>10-14</td>\n      <td>0.02</td>\n      <td>0.07</td>\n    </tr>\n    <tr>\n      <th>3</th>\n      <td>15-19</td>\n      <td>0.06</td>\n      <td>0.23</td>\n    </tr>\n    <tr>\n      <th>4</th>\n      <td>20-24</td>\n      <td>0.11</td>\n      <td>0.38</td>\n    </tr>\n    <tr>\n      <th>5</th>\n      <td>25-29</td>\n      <td>0.11</td>\n      <td>0.40</td>\n    </tr>\n    <tr>\n      <th>6</th>\n      <td>30-34</td>\n      <td>0.29</td>\n      <td>0.75</td>\n    </tr>\n    <tr>\n      <th>7</th>\n      <td>35-39</td>\n      <td>0.56</td>\n      <td>1.11</td>\n    </tr>\n    <tr>\n      <th>8</th>\n      <td>40-44</td>\n      <td>1.42</td>\n      <td>2.04</td>\n    </tr>\n    <tr>\n      <th>9</th>\n      <td>45-49</td>\n      <td>4.00</td>\n      <td>5.51</td>\n    </tr>\n    <tr>\n      <th>10</th>\n      <td>50-54</td>\n      <td>14.13</td>\n      <td>13.26</td>\n    </tr>\n    <tr>\n      <th>11</th>\n      <td>55-59</td>\n      <td>37.22</td>\n      <td>33.25</td>\n    </tr>\n    <tr>\n      <th>12</th>\n      <td>60-64</td>\n      <td>66.48</td>\n      <td>69.62</td>\n    </tr>\n    <tr>\n      <th>13</th>\n      <td>65-69</td>\n      <td>108.66</td>\n      <td>120.78</td>\n    </tr>\n    <tr>\n      <th>14</th>\n      <td>70-74</td>\n      <td>213.10</td>\n      <td>229.88</td>\n    </tr>\n    <tr>\n      <th>15</th>\n      <td>75-79</td>\n      <td>333.06</td>\n      <td>341.06</td>\n    </tr>\n    <tr>\n      <th>16</th>\n      <td>80-84</td>\n      <td>491.10</td>\n      <td>529.31</td>\n    </tr>\n    <tr>\n      <th>17</th>\n      <td>85+</td>\n      <td>894.45</td>\n      <td>710.40</td>\n    </tr>\n  </tbody>\n</table>\n</div>"
     },
     "execution_count": 6,
     "metadata": {},
     "output_type": "execute_result"
    }
   ],
   "source": [
    "copd_df = pd.read_csv('COPD_data.csv', sep=',')\n",
    "copd_df"
   ],
   "metadata": {
    "collapsed": false,
    "ExecuteTime": {
     "end_time": "2024-03-16T06:21:28.201290800Z",
     "start_time": "2024-03-16T06:21:28.137268900Z"
    }
   }
  },
  {
   "cell_type": "code",
   "execution_count": 7,
   "outputs": [
    {
     "data": {
      "text/plain": "        crude_rate\nUsa        2164.83\nUganda     2058.62",
      "text/html": "<div>\n<style scoped>\n    .dataframe tbody tr th:only-of-type {\n        vertical-align: middle;\n    }\n\n    .dataframe tbody tr th {\n        vertical-align: top;\n    }\n\n    .dataframe thead th {\n        text-align: right;\n    }\n</style>\n<table border=\"1\" class=\"dataframe\">\n  <thead>\n    <tr style=\"text-align: right;\">\n      <th></th>\n      <th>crude_rate</th>\n    </tr>\n  </thead>\n  <tbody>\n    <tr>\n      <th>Usa</th>\n      <td>2164.83</td>\n    </tr>\n    <tr>\n      <th>Uganda</th>\n      <td>2058.62</td>\n    </tr>\n  </tbody>\n</table>\n</div>"
     },
     "execution_count": 7,
     "metadata": {},
     "output_type": "execute_result"
    }
   ],
   "source": [
    "copd_df['population'] = 1\n",
    "\n",
    "copd_df['population * Death rate USA'] = copd_df['population'] * copd_df['Death rate United States 2019']# / 10**5\n",
    "copd_df['population * Death rate Uganda'] = copd_df['population'] * copd_df['Death rate Uganda 2019']# / 10**5\n",
    "\n",
    "result_df = pd.DataFrame({'crude_rate': [copd_df['population * Death rate USA'].sum(),\n",
    "                                                copd_df['population * Death rate Uganda'].sum()]},\n",
    "                         index=['Usa', 'Uganda'])\n",
    "result_df"
   ],
   "metadata": {
    "collapsed": false,
    "ExecuteTime": {
     "end_time": "2024-03-16T06:21:28.202290400Z",
     "start_time": "2024-03-16T06:21:28.169268Z"
    }
   }
  },
  {
   "cell_type": "code",
   "execution_count": 8,
   "outputs": [
    {
     "data": {
      "text/plain": "        crude_rate  age_standardisation\nUsa        2164.83             1.051593\nUganda     2058.62             0.950938",
      "text/html": "<div>\n<style scoped>\n    .dataframe tbody tr th:only-of-type {\n        vertical-align: middle;\n    }\n\n    .dataframe tbody tr th {\n        vertical-align: top;\n    }\n\n    .dataframe thead th {\n        text-align: right;\n    }\n</style>\n<table border=\"1\" class=\"dataframe\">\n  <thead>\n    <tr style=\"text-align: right;\">\n      <th></th>\n      <th>crude_rate</th>\n      <th>age_standardisation</th>\n    </tr>\n  </thead>\n  <tbody>\n    <tr>\n      <th>Usa</th>\n      <td>2164.83</td>\n      <td>1.051593</td>\n    </tr>\n    <tr>\n      <th>Uganda</th>\n      <td>2058.62</td>\n      <td>0.950938</td>\n    </tr>\n  </tbody>\n</table>\n</div>"
     },
     "execution_count": 8,
     "metadata": {},
     "output_type": "execute_result"
    }
   ],
   "source": [
    "result_df['age_standardisation'] = [result_df.loc['Usa', 'crude_rate']/result_df.loc['Uganda', 'crude_rate'],\n",
    "                                    result_df.loc['Uganda', 'crude_rate']/result_df.loc['Usa', 'crude_rate']]\n",
    "\n",
    "result_df"
   ],
   "metadata": {
    "collapsed": false,
    "ExecuteTime": {
     "end_time": "2024-03-16T06:21:28.202290400Z",
     "start_time": "2024-03-16T06:21:28.184272700Z"
    }
   }
  }
 ],
 "metadata": {
  "kernelspec": {
   "display_name": "Python 3",
   "language": "python",
   "name": "python3"
  },
  "language_info": {
   "codemirror_mode": {
    "name": "ipython",
    "version": 2
   },
   "file_extension": ".py",
   "mimetype": "text/x-python",
   "name": "python",
   "nbconvert_exporter": "python",
   "pygments_lexer": "ipython2",
   "version": "2.7.6"
  }
 },
 "nbformat": 4,
 "nbformat_minor": 0
}
