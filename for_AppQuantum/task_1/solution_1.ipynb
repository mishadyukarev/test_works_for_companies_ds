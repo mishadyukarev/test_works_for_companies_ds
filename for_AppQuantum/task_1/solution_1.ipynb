{
 "cells": [
  {
   "cell_type": "code",
   "execution_count": 62,
   "outputs": [],
   "source": [
    "import clickhouse_connect\n",
    "import pandas as pd\n",
    "import datetime\n",
    "import csv"
   ],
   "metadata": {
    "collapsed": false,
    "ExecuteTime": {
     "end_time": "2024-04-12T09:27:37.838755700Z",
     "start_time": "2024-04-12T09:27:37.781713Z"
    }
   }
  },
  {
   "cell_type": "code",
   "execution_count": 63,
   "outputs": [],
   "source": [
    "client = clickhouse_connect.get_client(host='localhost', username='default', password='')"
   ],
   "metadata": {
    "collapsed": false,
    "ExecuteTime": {
     "end_time": "2024-04-12T09:27:37.838755700Z",
     "start_time": "2024-04-12T09:27:37.805721800Z"
    }
   }
  },
  {
   "cell_type": "code",
   "execution_count": 64,
   "outputs": [
    {
     "data": {
      "text/plain": "<clickhouse_connect.driver.summary.QuerySummary at 0x1f41b761a30>"
     },
     "execution_count": 64,
     "metadata": {},
     "output_type": "execute_result"
    }
   ],
   "source": [
    "client.query('''DROP TABLE IF EXISTS advertising_costs''')\n",
    "client.command('''\n",
    "    CREATE TABLE advertising_costs (\n",
    "        date DateTime,\n",
    "        game VARCHAR(30),\n",
    "        device VARCHAR(30),\n",
    "        service VARCHAR(30),\n",
    "        metric_or_else UInt32,\n",
    "        cost_or_else Float32\n",
    "    )\n",
    "    ENGINE ReplacingMergeTree\n",
    "    PRIMARY KEY (date, game, device, service);\n",
    "''')"
   ],
   "metadata": {
    "collapsed": false,
    "ExecuteTime": {
     "end_time": "2024-04-12T09:27:37.908630100Z",
     "start_time": "2024-04-12T09:27:37.837757700Z"
    }
   }
  },
  {
   "cell_type": "code",
   "execution_count": 65,
   "outputs": [],
   "source": [
    "for i in range(1, 6):\n",
    "    with open(f'data/test_task_1_batch_{i}.csv', 'r') as csv_file:\n",
    "        csv_reader = csv.reader(csv_file)\n",
    "        data = [(datetime.datetime.strptime(row[0], '%Y-%m-%d'), row[1], row[2],row[3], row[4], row[5]) for row in csv_reader]\n",
    "        client.insert('advertising_costs', data)"
   ],
   "metadata": {
    "collapsed": false,
    "ExecuteTime": {
     "end_time": "2024-04-12T09:27:38.211416Z",
     "start_time": "2024-04-12T09:27:37.869753900Z"
    }
   }
  },
  {
   "cell_type": "code",
   "execution_count": 66,
   "outputs": [
    {
     "data": {
      "text/plain": "<clickhouse_connect.driver.query.QueryResult at 0x1f4178fceb0>"
     },
     "execution_count": 66,
     "metadata": {},
     "output_type": "execute_result"
    }
   ],
   "source": [
    "client.query('''OPTIMIZE TABLE advertising_costs FINAL;''')"
   ],
   "metadata": {
    "collapsed": false,
    "ExecuteTime": {
     "end_time": "2024-04-12T09:27:38.266899100Z",
     "start_time": "2024-04-12T09:27:38.208902500Z"
    }
   }
  },
  {
   "cell_type": "code",
   "execution_count": 67,
   "outputs": [],
   "source": [
    "result = client.query('''SELECT * FROM advertising_costs''')\n",
    "final_df = pd.DataFrame(columns=result.column_names, data=result.result_rows)\n",
    "final_df.to_csv('data/final.csv', index=False)"
   ],
   "metadata": {
    "collapsed": false,
    "ExecuteTime": {
     "end_time": "2024-04-12T09:27:38.275421400Z",
     "start_time": "2024-04-12T09:27:38.240918700Z"
    }
   }
  },
  {
   "cell_type": "code",
   "execution_count": 70,
   "outputs": [
    {
     "name": "stdout",
     "output_type": "stream",
     "text": [
      "(384, 6)\n"
     ]
    },
    {
     "data": {
      "text/plain": "                          date    game   device    service  metric_or_else  \\\n0    2024-01-01 00:00:00+03:00  farmer   amazon   facebook             100   \n1    2024-01-01 00:00:00+03:00  farmer   amazon  instagram             100   \n2    2024-01-01 00:00:00+03:00  farmer   amazon     tiktok            1300   \n3    2024-01-01 00:00:00+03:00  farmer   amazon    youtube             800   \n4    2024-01-01 00:00:00+03:00  farmer  android   facebook             500   \n..                         ...     ...      ...        ...             ...   \n379  2024-01-08 00:00:00+03:00  zombie  android    youtube            1000   \n380  2024-01-08 00:00:00+03:00  zombie      ios   facebook             100   \n381  2024-01-08 00:00:00+03:00  zombie      ios  instagram             800   \n382  2024-01-08 00:00:00+03:00  zombie      ios     tiktok               0   \n383  2024-01-08 00:00:00+03:00  zombie      ios    youtube             300   \n\n     cost_or_else  \n0     6953.540039  \n1     3579.409912  \n2     5503.379883  \n3     5694.830078  \n4     8586.179688  \n..            ...  \n379   4198.430176  \n380   1699.430054  \n381   2882.879883  \n382   7903.100098  \n383    715.520020  \n\n[384 rows x 6 columns]",
      "text/html": "<div>\n<style scoped>\n    .dataframe tbody tr th:only-of-type {\n        vertical-align: middle;\n    }\n\n    .dataframe tbody tr th {\n        vertical-align: top;\n    }\n\n    .dataframe thead th {\n        text-align: right;\n    }\n</style>\n<table border=\"1\" class=\"dataframe\">\n  <thead>\n    <tr style=\"text-align: right;\">\n      <th></th>\n      <th>date</th>\n      <th>game</th>\n      <th>device</th>\n      <th>service</th>\n      <th>metric_or_else</th>\n      <th>cost_or_else</th>\n    </tr>\n  </thead>\n  <tbody>\n    <tr>\n      <th>0</th>\n      <td>2024-01-01 00:00:00+03:00</td>\n      <td>farmer</td>\n      <td>amazon</td>\n      <td>facebook</td>\n      <td>100</td>\n      <td>6953.540039</td>\n    </tr>\n    <tr>\n      <th>1</th>\n      <td>2024-01-01 00:00:00+03:00</td>\n      <td>farmer</td>\n      <td>amazon</td>\n      <td>instagram</td>\n      <td>100</td>\n      <td>3579.409912</td>\n    </tr>\n    <tr>\n      <th>2</th>\n      <td>2024-01-01 00:00:00+03:00</td>\n      <td>farmer</td>\n      <td>amazon</td>\n      <td>tiktok</td>\n      <td>1300</td>\n      <td>5503.379883</td>\n    </tr>\n    <tr>\n      <th>3</th>\n      <td>2024-01-01 00:00:00+03:00</td>\n      <td>farmer</td>\n      <td>amazon</td>\n      <td>youtube</td>\n      <td>800</td>\n      <td>5694.830078</td>\n    </tr>\n    <tr>\n      <th>4</th>\n      <td>2024-01-01 00:00:00+03:00</td>\n      <td>farmer</td>\n      <td>android</td>\n      <td>facebook</td>\n      <td>500</td>\n      <td>8586.179688</td>\n    </tr>\n    <tr>\n      <th>...</th>\n      <td>...</td>\n      <td>...</td>\n      <td>...</td>\n      <td>...</td>\n      <td>...</td>\n      <td>...</td>\n    </tr>\n    <tr>\n      <th>379</th>\n      <td>2024-01-08 00:00:00+03:00</td>\n      <td>zombie</td>\n      <td>android</td>\n      <td>youtube</td>\n      <td>1000</td>\n      <td>4198.430176</td>\n    </tr>\n    <tr>\n      <th>380</th>\n      <td>2024-01-08 00:00:00+03:00</td>\n      <td>zombie</td>\n      <td>ios</td>\n      <td>facebook</td>\n      <td>100</td>\n      <td>1699.430054</td>\n    </tr>\n    <tr>\n      <th>381</th>\n      <td>2024-01-08 00:00:00+03:00</td>\n      <td>zombie</td>\n      <td>ios</td>\n      <td>instagram</td>\n      <td>800</td>\n      <td>2882.879883</td>\n    </tr>\n    <tr>\n      <th>382</th>\n      <td>2024-01-08 00:00:00+03:00</td>\n      <td>zombie</td>\n      <td>ios</td>\n      <td>tiktok</td>\n      <td>0</td>\n      <td>7903.100098</td>\n    </tr>\n    <tr>\n      <th>383</th>\n      <td>2024-01-08 00:00:00+03:00</td>\n      <td>zombie</td>\n      <td>ios</td>\n      <td>youtube</td>\n      <td>300</td>\n      <td>715.520020</td>\n    </tr>\n  </tbody>\n</table>\n<p>384 rows × 6 columns</p>\n</div>"
     },
     "execution_count": 70,
     "metadata": {},
     "output_type": "execute_result"
    }
   ],
   "source": [
    "final_df = pd.read_csv('data/final.csv')\n",
    "print(final_df.shape)\n",
    "final_df"
   ],
   "metadata": {
    "collapsed": false,
    "ExecuteTime": {
     "end_time": "2024-04-12T09:29:19.164327900Z",
     "start_time": "2024-04-12T09:29:19.110300800Z"
    }
   }
  }
 ],
 "metadata": {
  "kernelspec": {
   "display_name": "Python 3",
   "language": "python",
   "name": "python3"
  },
  "language_info": {
   "codemirror_mode": {
    "name": "ipython",
    "version": 2
   },
   "file_extension": ".py",
   "mimetype": "text/x-python",
   "name": "python",
   "nbconvert_exporter": "python",
   "pygments_lexer": "ipython2",
   "version": "2.7.6"
  }
 },
 "nbformat": 4,
 "nbformat_minor": 0
}
