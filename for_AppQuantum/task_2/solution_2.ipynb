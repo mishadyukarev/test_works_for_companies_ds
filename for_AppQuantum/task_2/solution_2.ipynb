{
 "cells": [
  {
   "cell_type": "code",
   "execution_count": 1,
   "metadata": {
    "collapsed": true,
    "ExecuteTime": {
     "end_time": "2024-04-12T12:41:10.899583100Z",
     "start_time": "2024-04-12T12:41:10.353365600Z"
    }
   },
   "outputs": [],
   "source": [
    "import clickhouse_connect\n",
    "import pandas as pd\n",
    "import datetime\n",
    "import csv"
   ]
  },
  {
   "cell_type": "code",
   "execution_count": 2,
   "outputs": [],
   "source": [
    "client = clickhouse_connect.get_client(host='localhost', username='default', password='')"
   ],
   "metadata": {
    "collapsed": false,
    "ExecuteTime": {
     "end_time": "2024-04-12T12:41:11.100344200Z",
     "start_time": "2024-04-12T12:41:10.902560100Z"
    }
   }
  },
  {
   "cell_type": "code",
   "execution_count": 3,
   "outputs": [
    {
     "data": {
      "text/plain": "<clickhouse_connect.driver.query.QueryResult at 0x2030a0604f0>"
     },
     "execution_count": 3,
     "metadata": {},
     "output_type": "execute_result"
    }
   ],
   "source": [
    "client.query('''DROP TABLE IF EXISTS session''')\n",
    "client.query('''DROP TABLE IF EXISTS mat_view;''')\n",
    "\n",
    "client.command('''\n",
    "    CREATE TABLE session (\n",
    "        id VARCHAR(50),\n",
    "        time DateTime,\n",
    "        action VARCHAR(30),\n",
    "    )\n",
    "    ENGINE MergeTree()\n",
    "    PRIMARY KEY (id, time);\n",
    "''')\n",
    "\n",
    "client.query('''\n",
    "    CREATE MATERIALIZED VIEW mat_view ENGINE = MergeTree PRIMARY KEY (count_new_sessions)\n",
    "    AS\n",
    "    SELECT COUNT(*) count_new_sessions\n",
    "    FROM (SELECT *, time - lagInFrame(time) OVER (PARTITION BY id ORDER BY time) dif_in_minutes\n",
    "                   FROM session)\n",
    "    WHERE dif_in_minutes > 15;\n",
    "''')"
   ],
   "metadata": {
    "collapsed": false,
    "ExecuteTime": {
     "end_time": "2024-04-12T12:41:11.214396900Z",
     "start_time": "2024-04-12T12:41:11.099346900Z"
    }
   }
  },
  {
   "cell_type": "code",
   "execution_count": 3,
   "outputs": [],
   "source": [],
   "metadata": {
    "collapsed": false,
    "ExecuteTime": {
     "end_time": "2024-04-12T12:41:11.219915400Z",
     "start_time": "2024-04-12T12:41:11.208394500Z"
    }
   }
  },
  {
   "cell_type": "code",
   "execution_count": 4,
   "outputs": [
    {
     "name": "stdout",
     "output_type": "stream",
     "text": [
      "26000\n"
     ]
    }
   ],
   "source": [
    "with open(f'test_task_2.csv', 'r', encoding='utf-8') as csv_file:\n",
    "    csv_reader = csv.reader(csv_file)\n",
    "    data = [(row[0], datetime.datetime.strptime(row[1], '%Y-%m-%d %H:%M:%S'), row[2]) for row in csv_reader]\n",
    "    print(len(data))\n",
    "    client.insert('session', data)"
   ],
   "metadata": {
    "collapsed": false,
    "ExecuteTime": {
     "end_time": "2024-04-12T12:41:11.622560300Z",
     "start_time": "2024-04-12T12:41:11.221917900Z"
    }
   }
  },
  {
   "cell_type": "code",
   "execution_count": 5,
   "outputs": [
    {
     "data": {
      "text/plain": "                                      id                      time  \\\n0      1690618913096-4258758771416604464 2024-01-22 12:38:35+03:00   \n1      1690618913096-4258758771416604464 2024-01-22 12:38:59+03:00   \n2      1690618913096-4258758771416604464 2024-01-22 12:38:59+03:00   \n3      1690618913096-4258758771416604464 2024-01-22 12:38:59+03:00   \n4      1690618913096-4258758771416604464 2024-01-22 12:39:00+03:00   \n...                                  ...                       ...   \n25995              1705944698122-7121932 2024-01-22 23:26:25+03:00   \n25996              1705944698122-7121932 2024-01-22 23:26:27+03:00   \n25997              1705944698122-7121932 2024-01-22 23:26:29+03:00   \n25998              1705944698122-7121932 2024-01-22 23:49:42+03:00   \n25999              1705944698122-7121932 2024-01-22 23:49:42+03:00   \n\n               action  \n0              launch  \n1      workshop_build  \n2      workshop_build  \n3              launch  \n4            lp_start  \n...               ...  \n25995         rv_show  \n25996        rv_click  \n25997        rv_start  \n25998         rv_show  \n25999       rv_finish  \n\n[26000 rows x 3 columns]",
      "text/html": "<div>\n<style scoped>\n    .dataframe tbody tr th:only-of-type {\n        vertical-align: middle;\n    }\n\n    .dataframe tbody tr th {\n        vertical-align: top;\n    }\n\n    .dataframe thead th {\n        text-align: right;\n    }\n</style>\n<table border=\"1\" class=\"dataframe\">\n  <thead>\n    <tr style=\"text-align: right;\">\n      <th></th>\n      <th>id</th>\n      <th>time</th>\n      <th>action</th>\n    </tr>\n  </thead>\n  <tbody>\n    <tr>\n      <th>0</th>\n      <td>1690618913096-4258758771416604464</td>\n      <td>2024-01-22 12:38:35+03:00</td>\n      <td>launch</td>\n    </tr>\n    <tr>\n      <th>1</th>\n      <td>1690618913096-4258758771416604464</td>\n      <td>2024-01-22 12:38:59+03:00</td>\n      <td>workshop_build</td>\n    </tr>\n    <tr>\n      <th>2</th>\n      <td>1690618913096-4258758771416604464</td>\n      <td>2024-01-22 12:38:59+03:00</td>\n      <td>workshop_build</td>\n    </tr>\n    <tr>\n      <th>3</th>\n      <td>1690618913096-4258758771416604464</td>\n      <td>2024-01-22 12:38:59+03:00</td>\n      <td>launch</td>\n    </tr>\n    <tr>\n      <th>4</th>\n      <td>1690618913096-4258758771416604464</td>\n      <td>2024-01-22 12:39:00+03:00</td>\n      <td>lp_start</td>\n    </tr>\n    <tr>\n      <th>...</th>\n      <td>...</td>\n      <td>...</td>\n      <td>...</td>\n    </tr>\n    <tr>\n      <th>25995</th>\n      <td>1705944698122-7121932</td>\n      <td>2024-01-22 23:26:25+03:00</td>\n      <td>rv_show</td>\n    </tr>\n    <tr>\n      <th>25996</th>\n      <td>1705944698122-7121932</td>\n      <td>2024-01-22 23:26:27+03:00</td>\n      <td>rv_click</td>\n    </tr>\n    <tr>\n      <th>25997</th>\n      <td>1705944698122-7121932</td>\n      <td>2024-01-22 23:26:29+03:00</td>\n      <td>rv_start</td>\n    </tr>\n    <tr>\n      <th>25998</th>\n      <td>1705944698122-7121932</td>\n      <td>2024-01-22 23:49:42+03:00</td>\n      <td>rv_show</td>\n    </tr>\n    <tr>\n      <th>25999</th>\n      <td>1705944698122-7121932</td>\n      <td>2024-01-22 23:49:42+03:00</td>\n      <td>rv_finish</td>\n    </tr>\n  </tbody>\n</table>\n<p>26000 rows × 3 columns</p>\n</div>"
     },
     "execution_count": 5,
     "metadata": {},
     "output_type": "execute_result"
    }
   ],
   "source": [
    "result = client.query('''SELECT * FROM session''')\n",
    "df = pd.DataFrame(columns=result.column_names, data=result.result_rows)\n",
    "df"
   ],
   "metadata": {
    "collapsed": false,
    "ExecuteTime": {
     "end_time": "2024-04-12T12:41:11.808985900Z",
     "start_time": "2024-04-12T12:41:11.625191700Z"
    }
   }
  },
  {
   "cell_type": "code",
   "execution_count": 6,
   "outputs": [
    {
     "data": {
      "text/plain": "   count_new_sessions\n0                5082",
      "text/html": "<div>\n<style scoped>\n    .dataframe tbody tr th:only-of-type {\n        vertical-align: middle;\n    }\n\n    .dataframe tbody tr th {\n        vertical-align: top;\n    }\n\n    .dataframe thead th {\n        text-align: right;\n    }\n</style>\n<table border=\"1\" class=\"dataframe\">\n  <thead>\n    <tr style=\"text-align: right;\">\n      <th></th>\n      <th>count_new_sessions</th>\n    </tr>\n  </thead>\n  <tbody>\n    <tr>\n      <th>0</th>\n      <td>5082</td>\n    </tr>\n  </tbody>\n</table>\n</div>"
     },
     "execution_count": 6,
     "metadata": {},
     "output_type": "execute_result"
    }
   ],
   "source": [
    "# Checking if Materialized view works\n",
    "_ = client.query('''SELECT * FROM mat_view''')\n",
    "pd.DataFrame(columns=_.column_names, data=_.result_rows)"
   ],
   "metadata": {
    "collapsed": false,
    "ExecuteTime": {
     "end_time": "2024-04-12T12:41:11.864730600Z",
     "start_time": "2024-04-12T12:41:11.810976500Z"
    }
   }
  }
 ],
 "metadata": {
  "kernelspec": {
   "display_name": "Python 3",
   "language": "python",
   "name": "python3"
  },
  "language_info": {
   "codemirror_mode": {
    "name": "ipython",
    "version": 2
   },
   "file_extension": ".py",
   "mimetype": "text/x-python",
   "name": "python",
   "nbconvert_exporter": "python",
   "pygments_lexer": "ipython2",
   "version": "2.7.6"
  }
 },
 "nbformat": 4,
 "nbformat_minor": 0
}
